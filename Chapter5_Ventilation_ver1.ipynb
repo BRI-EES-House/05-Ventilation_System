{
 "cells": [
  {
   "cell_type": "code",
   "execution_count": 4,
   "metadata": {
    "collapsed": true
   },
   "outputs": [],
   "source": [
    "import numpy as np\n",
    "import matplotlib.pyplot as plt\n",
    "import math\n",
    "from enum import Enum"
   ]
  },
  {
   "cell_type": "markdown",
   "metadata": {},
   "source": [
    "# 第五章　換気設備の計算方法"
   ]
  },
  {
   "cell_type": "markdown",
   "metadata": {},
   "source": [
    "## はじめに\n"
   ]
  },
  {
   "cell_type": "markdown",
   "metadata": {},
   "source": [
    "本計算は第五章「換気設備」に基づく。"
   ]
  },
  {
   "cell_type": "markdown",
   "metadata": {},
   "source": [
    "### 機械換気設備の消費電力量\n"
   ]
  },
  {
   "cell_type": "markdown",
   "metadata": {},
   "source": [
    "#### 定義"
   ]
  },
  {
   "cell_type": "markdown",
   "metadata": {},
   "source": [
    "機械換気設備の消費電力量$ E_{E,V,d,t} $は式(1)に基づく。  \n",
    "$$\n",
    "\\begin{equation}\n",
    "    \\displaystyle E_{E,V,d,t} = E_{E,VG,d,t} + E_{E,VL,d,t} \\tag{1}  \n",
    "\\end{equation}\n",
    "$$\n",
    "\n",
    "<br />\n",
    "ここで、  \n",
    "$ E_{E,V,d,t} $：機械換気設備の消費電力量(kWh/h)  \n",
    "$ E_{E,VG,d,t} $：全般換気設備の消費電力量(kWh/h)  \n",
    "$ E_{E,VL,d,t} $：局所換気設備の消費電力量(kWh/h)  \n",
    "である。"
   ]
  },
  {
   "cell_type": "code",
   "execution_count": 2,
   "metadata": {
    "collapsed": true
   },
   "outputs": [],
   "source": [
    "def get_E_E_V(E_E_VG, E_E_VL):\n",
    "    return E_E_VG + E_E_VL"
   ]
  },
  {
   "cell_type": "markdown",
   "metadata": {},
   "source": [
    "#### 例題\n",
    "\n",
    "以下の条件で計算する。  \n",
    "$ E_{E,VG,d,t} $は0.3kWh/h  \n",
    "$ E_{E,VL,d,t} $は0.1kWh/h\n"
   ]
  },
  {
   "cell_type": "code",
   "execution_count": 3,
   "metadata": {},
   "outputs": [
    {
     "data": {
      "text/plain": [
       "0.4"
      ]
     },
     "execution_count": 3,
     "metadata": {},
     "output_type": "execute_result"
    }
   ],
   "source": [
    "get_E_E_V(0.3, 0.1)"
   ]
  },
  {
   "cell_type": "markdown",
   "metadata": {},
   "source": [
    "### 全般換気設備の消費電力量"
   ]
  },
  {
   "cell_type": "markdown",
   "metadata": {},
   "source": [
    "#### 定義"
   ]
  },
  {
   "cell_type": "markdown",
   "metadata": {},
   "source": [
    "全般換気設備の消費電力量($ E_{E,VG,d,t} $)は式(2)により表される。  \n",
    "$$\n",
    "\\begin{equation}\n",
    "    E_{E,VG,d,t} = f_{SFP} \\times V_R \\times 10^{-3} \\tag{2}\n",
    "\\end{equation}\n",
    "$$\n",
    "<br />\n",
    "ここで、  \n",
    "$ f_{SFP} $：全般換気設備の比消費電力(W/(m3/h))  \n",
    "$ V_R $：全般換気設備の参照機械換気量(m3/h)  \n",
    "である。"
   ]
  },
  {
   "cell_type": "code",
   "execution_count": 4,
   "metadata": {
    "collapsed": true
   },
   "outputs": [],
   "source": [
    "def get_E_E_VG(f_SFP, V_R):\n",
    "    return f_SFP * V_R * 10**(-3)"
   ]
  },
  {
   "cell_type": "markdown",
   "metadata": {},
   "source": [
    "#### 例題\n",
    "\n",
    "以下の条件で計算する。  \n",
    "$ f_{SFP} $は0.3  \n",
    "$ V_R $は3.5"
   ]
  },
  {
   "cell_type": "code",
   "execution_count": 5,
   "metadata": {},
   "outputs": [
    {
     "data": {
      "text/plain": [
       "0.0010500000000000002"
      ]
     },
     "execution_count": 5,
     "metadata": {},
     "output_type": "execute_result"
    }
   ],
   "source": [
    "get_E_E_VG(0.3, 3.5)"
   ]
  },
  {
   "cell_type": "markdown",
   "metadata": {},
   "source": [
    "#### 定義"
   ]
  },
  {
   "cell_type": "markdown",
   "metadata": {},
   "source": [
    "全般換気設備の参照換気量($V_R$)は、式(3)により表される。  \n",
    "$$\n",
    "\\begin{equation}\n",
    "    V_R = A_A \\times H_R \\times N \\times a \\div e \\tag{3}\n",
    "\\end{equation}\n",
    "$$\n",
    "\n",
    "<br />\n",
    "ここで、  \n",
    "$ A_A $：床面積の合計(m2)  \n",
    "$ H_R $：参照天井高さ(m)(=2.4m)  \n",
    "$ N $：換気回数(1/h)  \n",
    "$ a $：全般換気設備の換気量の余裕率(=1.1)  \n",
    "$ e $：有効換気量率  \n",
    "である。  \n",
    "\n"
   ]
  },
  {
   "cell_type": "code",
   "execution_count": 6,
   "metadata": {
    "collapsed": true
   },
   "outputs": [],
   "source": [
    "def get_V_R(A_A, N, e):\n",
    "    H_R = 2.4 # 参照天井高さ(m)\n",
    "    a = 1.1 # 全般換気設備の換気量の余裕率\n",
    "    return A_A * H_R * N * a / e"
   ]
  },
  {
   "cell_type": "markdown",
   "metadata": {},
   "source": [
    "#### 例題\n",
    "以下の条件で計算する。  \n",
    "$A_A$は10  \n",
    "$N$は5  \n",
    "$e$は1"
   ]
  },
  {
   "cell_type": "code",
   "execution_count": 7,
   "metadata": {},
   "outputs": [
    {
     "data": {
      "text/plain": [
       "132.0"
      ]
     },
     "execution_count": 7,
     "metadata": {},
     "output_type": "execute_result"
    }
   ],
   "source": [
    "get_V_R(10,5,1)"
   ]
  },
  {
   "cell_type": "markdown",
   "metadata": {},
   "source": [
    "#### 定義"
   ]
  },
  {
   "cell_type": "markdown",
   "metadata": {},
   "source": [
    "比消費電力$ f_{SFP} $は、全般換気設備、ダクト及び電動機の種別に応じて定まる付録Aに規定する値を用いるか、又は式(4)により算出し、1/100未満の端数を切り上げた小数第二位までの値とする。  \n",
    "$$\n",
    "\\begin{equation}\n",
    "    f_{SFP} = P \\div V_d \\tag{4}\n",
    "\\end{equation}\n",
    "$$\n",
    "\n",
    "<br />\n",
    "ここで、  \n",
    "$ P $：全般換気設備の消費電力(W)  \n",
    "$ V_d $：全般換気設備の設計風量(m3/h)  \n",
    "である。"
   ]
  },
  {
   "cell_type": "code",
   "execution_count": 5,
   "metadata": {
    "collapsed": true
   },
   "outputs": [],
   "source": [
    "# 付録A 全般換気設備の比消費電力\n",
    "class Type(Enum):\n",
    "    duct1_EXCH    =1 # 0.70　ダクト式第一種換気設備（熱交換型換気設備）\n",
    "    duct1         =2 # 0.50　ダクト式第一種換気設備\n",
    "    duct2or3      =3 # 0.40　ダクト式第二種換気設備又はダクト式第三種換気設備\n",
    "    wall1_EXCH    =4 # 0.70　壁付け式第一種換気設備（熱交換型換気設備）\n",
    "    wall1         =5 # 0.40　壁付け式第一種換気設備\n",
    "    wall2         =6 # 0.30　壁付け式第二種換気設備\n",
    "    wall3         =7 # 0.30　壁付け式第三種換気設備\n",
    "    \n",
    "class Saving(Enum):\n",
    "    duct1_over75mm_DC    = 1 # 0.455　ダクト式第一種換気設備、内径75mm以上のダクトのみ使用、直流\n",
    "    duct1_over75mm_AC    = 2 # 0.700　ダクト式第一種換気設備、内径75mm以上のダクトのみ使用、交流、又は直流と交流の併用\n",
    "    duct1_other          = 3 # 1.000　ダクト式第一種換気設備、上記以外\n",
    "    duct2or3_over75mm_DC = 4 # 0.360　ダクト式第二種又は第三種換気設備、内径75mm以上のダクトのみ使用、直流\n",
    "    duct2or3_over75mm_AC = 5 # 0.600　ダクト式第二種又は第三種換気設備、内径75mm以上のダクトのみ使用、交流、又は直流と交流の併用\n",
    "    duct2or3_other       = 6 # 1.000　ダクト式第二種又は第三種換気設備、上記以外\n",
    "\n",
    "    \n",
    "def get_f_SFP(P = 0, V_d = 0, get_Type = 0 , get_Saving = 0):\n",
    "    # 式(4)により算出する場合\n",
    "    if get_Type == 0 and get_Saving == 0:\n",
    "        return math.ceil(P / V_d * 100) / 100\n",
    "    \n",
    "    # 付録Aに規定する値を用いる場合\n",
    "    if P == 0 and V_d == 0:\n",
    "        if get_Type == Type(1).value: # ダクト式第一種換気設備（熱交換型換気設備）\n",
    "            Value1 = 0.70\n",
    "        elif get_Type == Type(2).value: # ダクト式第一種換気設備\n",
    "            Value1 = 0.50\n",
    "        elif get_Type == Type(3).value: # ダクト式第二種換気設備又はダクト式第三種換気設備\n",
    "            Value1 = 0.40\n",
    "        elif get_Type == Type(4).value: # 壁付け式第一種換気設備（熱交換型換気設備）\n",
    "            Value1 = 0.70\n",
    "        elif get_Type == Type(5).value: # 壁付け式第一種換気設備\n",
    "            Value1 = 0.40\n",
    "        elif get_Type == Type(6).value: # 壁付け式第二種換気設備\n",
    "            Value1 = 0.30\n",
    "        elif get_Type == Type(7).value: # 壁付け式第三種換気設備\n",
    "            Value1 = 0.30\n",
    "\n",
    "        if get_Type == Type(1).value or get_Type == Type(2).value:\n",
    "            if get_Saving == Saving(1).value:\n",
    "                Value2 = 0.455\n",
    "            elif get_Saving == Saving(2).value:\n",
    "                Value2 = 0.700\n",
    "            elif get_Saving == Saving(3).value:\n",
    "                Value2 = 1.000\n",
    "            else:\n",
    "                Value2 = 1.000\n",
    "\n",
    "        if get_Type == Type(3).value:\n",
    "            if get_Saving == Saving(4).value:\n",
    "                Value2 = 0.360\n",
    "            elif get_Saving == Saving(5).value:\n",
    "                Value2 = 0.600\n",
    "            elif get_Saving == Saving(6).value:\n",
    "                Value2 = 1.000\n",
    "            else:\n",
    "                Value2 = 1.000\n",
    "\n",
    "        return Value1 * Value2\n",
    "    \n",
    "    else:\n",
    "        return 1\n",
    "\n",
    "\n"
   ]
  },
  {
   "cell_type": "markdown",
   "metadata": {},
   "source": [
    "#### 例題\n",
    "以下の条件で計算する。  \n",
    "$P$は50  \n",
    "$V_d$は270"
   ]
  },
  {
   "cell_type": "code",
   "execution_count": 59,
   "metadata": {},
   "outputs": [
    {
     "data": {
      "text/plain": [
       "0.19"
      ]
     },
     "execution_count": 59,
     "metadata": {},
     "output_type": "execute_result"
    }
   ],
   "source": [
    "get_f_SFP(50,270,0,0)"
   ]
  },
  {
   "cell_type": "markdown",
   "metadata": {},
   "source": [
    "#### 例題\n",
    "以下の条件で計算する。  \n",
    "ダクト式第二種換気設備で、内径75mm以上のダクトのみを使用し、直流の電動機"
   ]
  },
  {
   "cell_type": "code",
   "execution_count": 58,
   "metadata": {},
   "outputs": [
    {
     "data": {
      "text/plain": [
       "0.144"
      ]
     },
     "execution_count": 58,
     "metadata": {},
     "output_type": "execute_result"
    }
   ],
   "source": [
    "get_f_SFP(0,0,3,4)"
   ]
  },
  {
   "cell_type": "markdown",
   "metadata": {},
   "source": [
    "### 局所換気設備の消費電力量"
   ]
  },
  {
   "cell_type": "markdown",
   "metadata": {},
   "source": [
    "#### 定義"
   ]
  },
  {
   "cell_type": "markdown",
   "metadata": {},
   "source": [
    "局所換気設備の消費電力量($E_{E,VL,d,t}$)は、式(5)により表される。  \n",
    "$ E_{E,VL,d,t} = \\left\\{\n",
    "\\begin{array}{ll}\n",
    "E_{E,VL,p,d,t} \\mid _{p=1} \\times \\frac{2 - n_p}{2 - 1} + E_{E,VL,p,d,t} \\mid _{p=2} \\times \\frac{n_p - 1}{2 - 1} & (1 \\leq n_p < 2 )\\\\\n",
    "E_{E,VL,p,d,t} \\mid _{p=2} \\times \\frac{3 - n_p}{3 - 2} + E_{E,VL,p,d,t} \\mid _{p=3} \\times \\frac{n_p - 2}{3 - 2} & (2 \\leq n_p < 3)\\\\ \\tag{5}\n",
    "E_{E,VL,p,d,t} \\mid _{p=3} \\times \\frac{4 - n_p}{4 - 3} + E_{E,VL,p,d,t} \\mid _{p=3} \\times \\frac{n_p - 3}{4 - 3} & (3 \\leq n_p < 4)\n",
    "\\end{array}\n",
    "\\right.$  \n",
    "\n",
    "<br />\n",
    "ここで、  \n",
    "$ E_{E,VL,d,t} $：日付dの時刻tにおける1時間当たりの局所換気設備の消費電力量(kWh/h)  \n",
    "$ E_{E,VL,p,d,t} $：日付dの時刻tにおける1時間当たりの居住人数がp人における局所換気設備の消費電力量(kWh/h)  \n",
    "$ n_p $：仮想居住人数  \n",
    "である。"
   ]
  },
  {
   "cell_type": "code",
   "execution_count": 12,
   "metadata": {
    "collapsed": true
   },
   "outputs": [],
   "source": [
    "def get_E_E_VL(E_E_VL_p, E_E_VL_p_plus1, n_p):\n",
    "    if 1 <= n_p < 2:\n",
    "        return E_E_VL_p * (2 - n_p) / (2 - 1) + E_E_VL_p_plus1  * (n_p - 1) / (2 - 1)\n",
    "    if n_p == 2 <= n_p < 3:\n",
    "        return E_E_VL_p * (3 - n_p) / (3 - 2) + E_E_VL_p_plus1  * (n_p - 2) / (3 - 2)\n",
    "    if n_p == 3 <= n_p < 4:\n",
    "        return E_E_VL_p * (4 - n_p) / (4 - 3) + E_E_VL_p_plus1  * (n_p - 3) / (4 - 3)\n",
    "   "
   ]
  },
  {
   "cell_type": "markdown",
   "metadata": {},
   "source": [
    "#### 説明\n",
    "例題として以下の条件で計算する。  \n",
    "$n_p=1.4$  \n",
    "$E_{E,VL,p}=0.00054$  \n",
    "$E_{E,VL,p+1}=0.00108$"
   ]
  },
  {
   "cell_type": "code",
   "execution_count": 13,
   "metadata": {},
   "outputs": [
    {
     "data": {
      "text/plain": [
       "0.0007559999999999999"
      ]
     },
     "execution_count": 13,
     "metadata": {},
     "output_type": "execute_result"
    }
   ],
   "source": [
    "get_E_E_VL(0.00054, 0.00108, 1.4)"
   ]
  },
  {
   "cell_type": "markdown",
   "metadata": {},
   "source": [
    "# 計算方法（統合）\n",
    "\n",
    "### $f_{SFP}$の設定に課題あり。"
   ]
  },
  {
   "cell_type": "code",
   "execution_count": 14,
   "metadata": {
    "collapsed": true
   },
   "outputs": [],
   "source": [
    "def result(N, n_p, A_A, e, P, V_d, E_E_VL_p, E_E_VL_p_plus1):\n",
    "    \n",
    "    # 局所換気設備の消費電力量\n",
    "    E_E_VL = get_E_E_VL(E_E_VL_p, E_E_VL_p_plus1, n_p)\n",
    "    print('局所換気の消費電力量' + str(E_E_VL))\n",
    "    \n",
    "    # 全般換気設備の消費電力量\n",
    "    V_R = get_V_R(A_A, N, e)\n",
    "    f_SFP = get_f_SFP_calc(P, V_d)\n",
    "    E_E_VG = get_E_E_VG(f_SFP, V_R)\n",
    "    print('全般換気設備の消費電力量' + str(E_E_VG))\n",
    "    \n",
    "    # 機械換気設備の消費電力量\n",
    "    E_E_V = get_E_E_V(E_E_VG, E_E_VL)\n",
    "    print('機械換気設備の消費電力量' + str(E_E_V))\n",
    "    "
   ]
  },
  {
   "cell_type": "code",
   "execution_count": 15,
   "metadata": {},
   "outputs": [
    {
     "name": "stdout",
     "output_type": "stream",
     "text": [
      "局所換気の消費電力量0.29\n",
      "全般換気設備の消費電力量0.030096\n",
      "機械換気設備の消費電力量0.320096\n"
     ]
    }
   ],
   "source": [
    "result( 0.5, 1.4, 120, 1, 50, 270, 0.15, 0.5)"
   ]
  }
 ],
 "metadata": {
  "kernelspec": {
   "display_name": "Python 3",
   "language": "python",
   "name": "python3"
  },
  "language_info": {
   "codemirror_mode": {
    "name": "ipython",
    "version": 3
   },
   "file_extension": ".py",
   "mimetype": "text/x-python",
   "name": "python",
   "nbconvert_exporter": "python",
   "pygments_lexer": "ipython3",
   "version": "3.6.2"
  }
 },
 "nbformat": 4,
 "nbformat_minor": 2
}
