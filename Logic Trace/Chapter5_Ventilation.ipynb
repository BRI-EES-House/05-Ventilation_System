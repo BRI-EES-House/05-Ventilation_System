{
 "cells": [
  {
   "cell_type": "code",
   "execution_count": 1,
   "metadata": {
    "collapsed": false
   },
   "outputs": [],
   "source": [
    "import math\n",
    "from enum import Enum\n",
    "import Life_Schedule as LS"
   ]
  },
  {
   "cell_type": "markdown",
   "metadata": {},
   "source": [
    "# Chapter V Ventilation System / 換気設備の計算方法"
   ]
  },
  {
   "cell_type": "markdown",
   "metadata": {},
   "source": [
    "## Introduction"
   ]
  },
  {
   "cell_type": "markdown",
   "metadata": {},
   "source": [
    "This calculation depends on the specification of \"Chapter V Ventilation System\" in BRI."
   ]
  },
  {
   "cell_type": "markdown",
   "metadata": {},
   "source": [
    "## Electric Power of Mechanical Ventilation System / 機械換気設備の消費電力量"
   ]
  },
  {
   "cell_type": "markdown",
   "metadata": {},
   "source": [
    "Horly electric power of mechanical ventilation system $ E_{E,V} $ is calculated by the equation (1):\n",
    "\n",
    "$$\n",
    "\\begin{equation}\n",
    "    \\displaystyle E_{E,V} = E_{E,VG} + E_{E,VL}\n",
    "\\end{equation}\n",
    "$$\n",
    "<div align=\"right\">(1)</div>\n",
    "\n",
    "Where  \n",
    "$ E_{E,V} $ is the horly electric power of mechanical ventilation system / 1時間当たりの機械換気設備の消費電力量 (kWh/h);  \n",
    "$ E_{E,VG} $ is the hourly electric power of general mecanical ventilation system / 1時間当たりの全般換気設備の消費電力量 (kWh/h);    \n",
    "$ E_{E,VL} $ is the hourly electric power of local mechanical ventilation system / 1時間当たりの局所換気設備の消費電力量 (kWh/h)."
   ]
  },
  {
   "cell_type": "code",
   "execution_count": 2,
   "metadata": {
    "collapsed": true
   },
   "outputs": [],
   "source": [
    "def get_E_E_V(E_E_VG, E_E_VL):\n",
    "    return E_E_VG + E_E_VL"
   ]
  },
  {
   "cell_type": "markdown",
   "metadata": {},
   "source": [
    "### Example"
   ]
  },
  {
   "cell_type": "markdown",
   "metadata": {},
   "source": [
    "$ E_{E,VG} $ = 0.3 (kWh/h)  \n",
    "$ E_{E,VL} $ = 0.1 (kWh/h)"
   ]
  },
  {
   "cell_type": "code",
   "execution_count": 3,
   "metadata": {
    "collapsed": false
   },
   "outputs": [
    {
     "data": {
      "text/plain": [
       "0.4"
      ]
     },
     "execution_count": 3,
     "metadata": {},
     "output_type": "execute_result"
    }
   ],
   "source": [
    "get_E_E_V(0.3, 0.1)"
   ]
  },
  {
   "cell_type": "markdown",
   "metadata": {},
   "source": [
    "## Electric Power of General Mechanical Ventilation System / 全般換気設備の消費電力量"
   ]
  },
  {
   "cell_type": "markdown",
   "metadata": {},
   "source": [
    "The hourly electric power of general mechanical ventilation system $ E_{E,VG} $ is calculated by the equation (2):  \n",
    "\n",
    "$$\n",
    "\\begin{equation}\n",
    "    E_{E,VG} = f_{SFP} \\times V_R \\times 10^{-3}\n",
    "\\end{equation}\n",
    "$$\n",
    "<div align=\"right\">(2)</div>\n",
    "\n",
    "Where  \n",
    "$ f_{SFP} $ is the SFP ( specific Fan Power ) of general mechanical ventilation system / 全般換気設備の比消費電力 (W/(m<sup>3</sup>/h));  \n",
    "$ V_R $ is the referenced ventilation amount of general mechanical ventilation system / 全般換気設備の参照機械換気量 (m<sup>3</sup>/h)."
   ]
  },
  {
   "cell_type": "code",
   "execution_count": 4,
   "metadata": {
    "collapsed": true
   },
   "outputs": [],
   "source": [
    "def get_E_E_VG(f_SFP, V_R):\n",
    "    return f_SFP * V_R * 10**(-3)"
   ]
  },
  {
   "cell_type": "markdown",
   "metadata": {},
   "source": [
    "### Example"
   ]
  },
  {
   "cell_type": "markdown",
   "metadata": {},
   "source": [
    "$ f_{SFP} $ = 0.3 (W/(m<sup>3</sup>/h))  \n",
    "$ V_R $ = 3.5 (m<sup>3</sup>/h)"
   ]
  },
  {
   "cell_type": "code",
   "execution_count": 5,
   "metadata": {
    "collapsed": false
   },
   "outputs": [
    {
     "data": {
      "text/plain": [
       "0.0010500000000000002"
      ]
     },
     "execution_count": 5,
     "metadata": {},
     "output_type": "execute_result"
    }
   ],
   "source": [
    "get_E_E_VG(0.3, 3.5)"
   ]
  },
  {
   "cell_type": "markdown",
   "metadata": {},
   "source": [
    "## Referenced Amount of Mechanical Ventilation System / 全般換気設備の参照機械換気量"
   ]
  },
  {
   "cell_type": "markdown",
   "metadata": {},
   "source": [
    "The referenced amount of mechanical ventilation system $V_R$ is calculated by equation(3):\n",
    "\n",
    "$$\n",
    "\\begin{equation}\n",
    "    V_R = A_A \\times H_R \\times N \\times a \\div e\n",
    "\\end{equation}\n",
    "$$\n",
    "<div align=\"right\">(3)</div>\n",
    "\n",
    "Where  \n",
    "$ A_A $ is the floor area / 床面積の合計 (m<sup>2</sup>);  \n",
    "$ H_R $ is the referenced ceiling height / 参照天井高さ (m)(=2.4m);  \n",
    "$ N $ is the ventilation rate / 換気回数 (1/h);  \n",
    "$ a $ is the allowance ratio of the ventilation amount of the general mechanical ventilation system / 全般換気設備の換気量の余裕率 (=1.1)  \n",
    "$ e $ is the effective ventilation ratio / 有効換気量率."
   ]
  },
  {
   "cell_type": "code",
   "execution_count": 6,
   "metadata": {
    "collapsed": true
   },
   "outputs": [],
   "source": [
    "def get_V_R(A_A, N, e):\n",
    "    H_R = 2.4 # 参照天井高さ(m)\n",
    "    a = 1.1 # 全般換気設備の換気量の余裕率\n",
    "    return A_A * H_R * N * a / e"
   ]
  },
  {
   "cell_type": "markdown",
   "metadata": {},
   "source": [
    "### Example"
   ]
  },
  {
   "cell_type": "markdown",
   "metadata": {},
   "source": [
    "$A_A$ = 10.0 (m<sup>2</sup>)  \n",
    "$N$ = 5.0 (1/h)  \n",
    "$e$ = 1.0"
   ]
  },
  {
   "cell_type": "code",
   "execution_count": 7,
   "metadata": {
    "collapsed": false
   },
   "outputs": [
    {
     "data": {
      "text/plain": [
       "132.0"
      ]
     },
     "execution_count": 7,
     "metadata": {},
     "output_type": "execute_result"
    }
   ],
   "source": [
    "get_V_R(10.0, 5.0, 1.0)"
   ]
  },
  {
   "cell_type": "markdown",
   "metadata": {},
   "source": [
    "## Specific Fan Power / 比消費電力"
   ]
  },
  {
   "cell_type": "markdown",
   "metadata": {},
   "source": [
    "The specific fan power is calculated based on the following (a) and (b).  "
   ]
  },
  {
   "cell_type": "markdown",
   "metadata": {},
   "source": [
    "### (a) Calculation based on Specification / 仕様により計算する方法"
   ]
  },
  {
   "cell_type": "markdown",
   "metadata": {},
   "source": [
    "#### (a-1) Ventilation System with Duct / ダクト式換気設備の場合"
   ]
  },
  {
   "cell_type": "markdown",
   "metadata": {},
   "source": [
    "$$ f_{SFP} = f_{SFP,basic} \\times r_{ES} $$\n",
    "\n",
    "$ f_{SFP,basic} $ is the basic SFP, and defined on the table below according to the type of the general mechanical ventilation system.\n",
    "\n",
    "| Type of General Ventilation System | Basic SFP |\n",
    "| ------------------ | -------------------- |\n",
    "| Balanced ventilation system with duct and heat exchanger <br> ダクト式第一種換気設備(熱交換型換気設備) | 0.70 |\n",
    "| Balanced ventilation system with duct <br> ダクト式第一種換気設備 | 0.50 |\n",
    "| Supply only or exhaust only ventilation system with duct <br> ダクト式第二種換気設備又はダクト式第三種換気設備 | 0.40 |\n",
    "\n",
    "$ r_{ES} $ is the ratio of the effect on the energy saving technique(s) and defined on the table below according to the type of the general mechanical ventilation, the inside diameter of the duct and the type of the moter.\n",
    "\n",
    "| Type of Ventilation System | Inside Diameter of Duct | Type of Moter | Ratio |\n",
    "| -------------- | ------------ | ------------ | ------ |\n",
    "| Balanced ventilation system with duct <br> ダクト式第一種換気設備 | Use the duct with the inside diameter of more than 75mm <br> 内径75mm以上のダクトのみ使用 | DC <br> 直流 | 0.455 |\n",
    "| Balanced ventilation system with duct <br> ダクト式第一種換気設備 | Use the duct with the inside diameter of more than 75mm <br> 内径75mm以上のダクトのみ使用 | AC or Combined Use of AC and DC <br> 交流、又は直流と交流の併用 | 0.700 |\n",
    "| Balanced ventilation system with duct <br> ダクト式第一種換気設備 | Others <br> 上記以外 | DC or AC <br> 直流あるいは交流 | 1.000 |\n",
    "| Supply only or exhaust only ventilation system with duct <br> ダクト式第二種換気設備又はダクト式第三種換気設備 | Use the duct with the inside diameter of more than 75mm <br> 内径75mm以上のダクトのみ使用 | DC <br> 直流 | 0.360 |\n",
    "| Supply only or exhaust only ventilation system with duct <br> ダクト式第二種換気設備又はダクト式第三種換気設備 | Use the duct with the inside diameter of more than 75mm <br> 内径75mm以上のダクトのみ使用 | AC or Combined Use of AC and DC <br> 交流、又は直流と交流の併用 | 0.600 |\n",
    "| Supply only or exhaust only ventilation system with duct <br> ダクト式第二種換気設備又はダクト式第三種換気設備 | Others <br> 上記以外 | DC or AC <br> 直流あるいは交流 | 1.000 |"
   ]
  },
  {
   "cell_type": "markdown",
   "metadata": {},
   "source": [
    "#### (a-2) Wall-mounted Ventilation Unit / 壁付け式換気設備の場合"
   ]
  },
  {
   "cell_type": "markdown",
   "metadata": {},
   "source": [
    "$ f_{SFP} $ is defined in the table below.\n",
    "\n",
    "| Type of Ventilation | SFP |\n",
    "| ------------------ | ---------- |\n",
    "| Balanced ventilation system with duct and heat exchanger <br> ダクト式第一種換気設備(熱交換型換気設備) | 0.70 |\n",
    "| Balanced ventilation system with duct <br> ダクト式第一種換気設備 | 0.40 |\n",
    "| Supply onlyventilation system with duct <br> ダクト式第二種換気設備 | 0.30 |\n",
    "| Exhaust only ventilation system with duct <br> ダクト式第三種換気設備 | 0.30 |"
   ]
  },
  {
   "cell_type": "markdown",
   "metadata": {},
   "source": [
    "### (b) Calculation based on Power and Designed Ventilation Amount / 消費電力と設計風量により求める方法"
   ]
  },
  {
   "cell_type": "markdown",
   "metadata": {},
   "source": [
    "$ f_{SFP} $ is calculated by the equation (4), and the calculated value shall be round up to the second decimal place.  \n",
    "$$\n",
    "\\begin{equation}\n",
    "    f_{SFP} = P \\div V_d\n",
    "\\end{equation}\n",
    "$$\n",
    "<div align=\"right\">(4)</div>\n",
    "\n",
    "Where  \n",
    "$ P $ is the power of the mechanical general ventilation system (W);  \n",
    "$ V_d $ is the designed ventilation amount of the mechanical general ventilation system (m<sup>3</sup>/h)."
   ]
  },
  {
   "cell_type": "code",
   "execution_count": 8,
   "metadata": {
    "collapsed": false
   },
   "outputs": [],
   "source": [
    "class VentilationType(Enum):\n",
    "    Duct1_HEX = \"Duct1_HEX\" # ダクト式第一種換気設備（熱交換型換気設備）\n",
    "    Duct1     = \"Duct1\"     # ダクト式第一種換気設備\n",
    "    Duct2     = \"Duct2\"     # ダクト式第二種換気設備\n",
    "    Duct3     = \"Duct3\"     # ダクト式第三種換気設備\n",
    "    Wall1_HEX = \"Wall1_HEX\" # 壁付け式第一種換気設備（熱交換型換気設備）\n",
    "    Wall1     = \"Wall1\"     # 壁付け式第一種換気設備\n",
    "    Wall2     = \"Wall2\"     # 壁付け式第二種換気設備\n",
    "    Wall3     = \"Wall3\"     # 壁付け式第三種換気設備"
   ]
  },
  {
   "cell_type": "code",
   "execution_count": 9,
   "metadata": {
    "collapsed": true
   },
   "outputs": [],
   "source": [
    "class EnergySavingMethod(Enum):\n",
    "    Over75mm_DC = \"Over75mm_DC\" # 内径75mm以上のダクトのみ使用、直流\n",
    "    Over75mm_AC = \"Over75mm_AC\" # 内径75mm以上のダクトのみ使用、交流、又は直流と交流の併用\n",
    "    Others      = \"Others\"      # 上記以外"
   ]
  },
  {
   "cell_type": "code",
   "execution_count": 10,
   "metadata": {
    "collapsed": true
   },
   "outputs": [],
   "source": [
    "def get_EnergySavingTechniquesEffectRatio(t, s):\n",
    "    # t : VentilationType enum型\n",
    "    # s : EnergySavingMethod enum型\n",
    "    if t == VentilationType.Duct1 or t == VentilationType.Duct1_HEX:\n",
    "        EnergySavingDuct1  = { EnergySavingMethod.Over75mm_DC : 0.455,\n",
    "                               EnergySavingMethod.Over75mm_AC : 0.700,\n",
    "                               EnergySavingMethod.Others      : 1.000 }\n",
    "        return EnergySavingDuct1[s]\n",
    "    elif t == VentilationType.Duct2 or t == VentilationType.Duct3:\n",
    "        EnergySavingDuct23 = { EnergySavingMethod.Over75mm_DC : 0.360,\n",
    "                               EnergySavingMethod.Over75mm_AC : 0.600,\n",
    "                               EnergySavingMethod.Others      : 1.000 }\n",
    "        return EnergySavingDuct23[s]\n",
    "    else:\n",
    "        return 1.0"
   ]
  },
  {
   "cell_type": "code",
   "execution_count": 11,
   "metadata": {
    "collapsed": true
   },
   "outputs": [],
   "source": [
    "def get_basicalSFP(t):\n",
    "    # t : VentilationType enum型\n",
    "    \n",
    "    BasicalSFP = { VentilationType.Duct1_HEX : 0.70, VentilationType.Duct1 : 0.50, VentilationType.Duct2 : 0.40, VentilationType.Duct3 : 0.40,\n",
    "                   VentilationType.Wall1_HEX : 0.70, VentilationType.Wall1 : 0.40, VentilationType.Wall2 : 0.30, VentilationType.Wall3 : 0.30 }\n",
    "    \n",
    "    return BasicalSFP[t]"
   ]
  },
  {
   "cell_type": "code",
   "execution_count": 12,
   "metadata": {
    "collapsed": true
   },
   "outputs": [],
   "source": [
    "def get_f_SFP(P = 0, V_d = 0, t = \"\", s = \"\"):\n",
    "    \n",
    "    \n",
    "    # 式(4)により算出する場合\n",
    "    if t == \"\" and s == \"\":\n",
    "        return math.ceil(P / V_d * 100) / 100\n",
    "    \n",
    "    # 付録Aに規定する値を用いる場合\n",
    "    if P == 0 and V_d == 0:\n",
    "        return get_basicalSFP(t) * get_EnergySavingTechniquesEffectRatio(t, s)\n",
    "    else:\n",
    "        return 1"
   ]
  },
  {
   "cell_type": "markdown",
   "metadata": {},
   "source": [
    "### Example"
   ]
  },
  {
   "cell_type": "markdown",
   "metadata": {},
   "source": [
    "$P$ = 50.0 (W)  \n",
    "$V_d$ = 270.0 (m<sup>3</sup>/h)  "
   ]
  },
  {
   "cell_type": "code",
   "execution_count": 13,
   "metadata": {
    "collapsed": false
   },
   "outputs": [
    {
     "data": {
      "text/plain": [
       "0.19"
      ]
     },
     "execution_count": 13,
     "metadata": {},
     "output_type": "execute_result"
    }
   ],
   "source": [
    "get_f_SFP(50.0, 270.0, \"\", \"\")"
   ]
  },
  {
   "cell_type": "markdown",
   "metadata": {},
   "source": [
    "### Example"
   ]
  },
  {
   "cell_type": "markdown",
   "metadata": {},
   "source": [
    "Type = The supply only ventilation system with duct  \n",
    "Inside Diameter of Duct = Use the duct with the inside diameter of more than 75mm  \n",
    "Type of Motor = DC"
   ]
  },
  {
   "cell_type": "code",
   "execution_count": 14,
   "metadata": {
    "collapsed": false
   },
   "outputs": [
    {
     "data": {
      "text/plain": [
       "0.144"
      ]
     },
     "execution_count": 14,
     "metadata": {},
     "output_type": "execute_result"
    }
   ],
   "source": [
    "get_f_SFP(0,0,VentilationType.Duct2, EnergySavingMethod.Over75mm_DC)"
   ]
  },
  {
   "cell_type": "markdown",
   "metadata": {},
   "source": [
    "## Electric Power of Local Mechanical Ventilation System / 局所換気設備の消費電力量"
   ]
  },
  {
   "cell_type": "markdown",
   "metadata": {},
   "source": [
    "The electric power of local mechanical ventilation system $ E_{E,VL} $ is calculated by the equation (5):  \n",
    "$ E_{E,VL} = \\left\\{\n",
    "\\begin{array}{ll}\n",
    "E_{E,VL,p} \\mid _{p=1} \\times \\frac{2 - n_p}{2 - 1} + E_{E,VL,p} \\mid _{p=2} \\times \\frac{n_p - 1}{2 - 1} & (1 \\leq n_p < 2 )\\\\\n",
    "E_{E,VL,p} \\mid _{p=2} \\times \\frac{3 - n_p}{3 - 2} + E_{E,VL,p} \\mid _{p=3} \\times \\frac{n_p - 2}{3 - 2} & (2 \\leq n_p < 3)\\\\\n",
    "E_{E,VL,p} \\mid _{p=3} \\times \\frac{4 - n_p}{4 - 3} + E_{E,VL,p} \\mid _{p=3} \\times \\frac{n_p - 3}{4 - 3} & (3 \\leq n_p \\leq 4)\n",
    "\\end{array}\n",
    "\\right.$  \n",
    "<div align=\"right\">(5)</div>\n",
    "\n",
    "Where  \n",
    "$ E_{E,VL} $ is the hourly electric power of the local ventilation system / 1時間当たりの局所換気設備の消費電力量 (kWh/h);  \n",
    "$ E_{E,VL,p} $ is the houlr electric power of the local ventilation system consumed by the p person(s) / 1時間当たりの居住人数がp人における局所換気設備の消費電力量 (kWh/h);  \n",
    "$ n_p $ is the vertical number of the ocupant(s) / 仮想居住人数."
   ]
  },
  {
   "cell_type": "markdown",
   "metadata": {},
   "source": [
    "$ E_{E,VL,p} $ is defined on the table below acording to the number of the ocupant(s), weekday/holiday and in/not home.  \n",
    "<br>\n",
    "<div style=\"text-align: center;\">\n",
    "    **table.  the hourly electric power of the local ventilation system(Wh/h)**\n",
    "</div>  \n",
    "\n",
    "| time <br> (hr) | 1 person<br>weekday　　 | 1 person<br>holiday, not home | 1 person<br>holiday, in home | 2 persons<br>weekday　　 | 2 person<br>holiday, not home | 2 person<br>holiday, in home | 3 person<br>weekday　　 | 3 person<br>holiday, not home | 3 person<br>holiday, in home | 4 person<br>weekday　　 | 4 person<br>holiday, not home | 4 person<br>holiday, in home |\n",
    "| --- | --- | --- | --- | --- | --- | --- | --- | --- | --- | --- | --- | --- |\n",
    "| 0:00 | 0.13 | 0.13 | 0.13 | 0.25 | 0.25 | 0.25 | 0.38 | 0.38 | 0.38 | 0.50 | 0.50 | 0.50 |\n",
    "| 1:00 | 0.13 | 0.13 | 0.13 | 0.25 | 0.25 | 0.25 | 0.38 | 0.38 | 0.38 | 0.50 | 0.50 | 0.50 |\n",
    "| 2:00 | 0.13 | 0.13 | 0.13 | 0.25 | 0.25 | 0.25 | 0.38 | 0.38 | 0.38 | 0.50 | 0.50 | 0.50 |\n",
    "| 3:00 | 0.13 | 0.13 | 0.13 | 0.25 | 0.25 | 0.25 | 0.38 | 0.38 | 0.38 | 0.50 | 0.50 | 0.50 |\n",
    "| 4:00 | 0.13 | 0.13 | 0.13 | 0.25 | 0.25 | 0.25 | 0.38 | 0.38 | 0.38 | 0.50 | 0.50 | 0.50 |\n",
    "| 5:00 | 0.13 | 0.13 | 0.13 | 0.25 | 0.25 | 0.25 | 0.38 | 0.38 | 0.38 | 0.50 | 0.50 | 0.50 |\n",
    "| 6:00 | 3.38 | 0.33 | 0.13 | 6.75 | 0.67 | 0.25 | 10.13 | 1.00 | 0.38 | 13.51 | 1.33 | 0.50 |\n",
    "| 7:00 | 0.54 | 0.33 | 0.54 | 1.08 | 0.67 | 1.08 | 1.63 | 1.00 | 1.63 | 2.17 | 1.33 | 2.17 |\n",
    "| 8:00 | 0.54 | 7.05 | 3.79 | 1.08 | 14.09 | 7.59 | 1.63 | 21.14 | 11.38 | 2.17 | 28.18 | 15.18 |\n",
    "| 9:00 | 0.13 | 0.13 | 0.33 | 0.25 | 0.25 | 0.67 | 0.38 | 0.38 | 1.00 | 0.50 | 0.50 | 1.33 |\n",
    "| 10:00 | 0.33 | 0.13 | 0.54 | 0.67 | 0.25 | 1.08 | 1.00 | 0.38 | 1.63 | 1.33 | 0.50 | 2.17 |\n",
    "| 11:00 | 0.13 | 0.13 | 0.33 | 0.25 | 0.25 | 0.67 | 0.38 | 0.38 | 1.00 | 0.50 | 0.50 | 1.33 |\n",
    "| 12:00 | 3.38 | 0.13 | 3.38 | 6.75 | 0.25 | 6.75 | 10.13 | 0.38 | 10.13 | 13.51 | 0.50 | 13.51 |\n",
    "| 13:00 | 0.33 | 0.13 | 0.33 | 0.67 | 0.25 | 0.67 | 1.00 | 0.38 | 1.00 | 1.33 | 0.50 | 1.33 |\n",
    "| 14:00 | 0.13 | 0.13 | 0.13 | 0.25 | 0.25 | 0.25 | 0.38 | 0.38 | 0.38 | 0.50 | 0.50 | 0.50 |\n",
    "| 15:00 | 0.13 | 0.13 | 0.13 | 0.25 | 0.25 | 0.25 | 0.38 | 0.38 | 0.38 | 0.50 | 0.50 | 0.50 |\n",
    "| 16:00 | 0.33 | 0.13 | 0.54 | 0.67 | 0.25 | 1.08 | 1.00 | 0.38 | 1.63 | 1.33 | 0.50 | 2.17 |\n",
    "| 17:00 | 0.33 | 0.13 | 6.42 | 0.67 | 0.25 | 12.84 | 1.00 | 0.38 | 19.26 | 1.33 | 0.50 | 25.68 |\n",
    "| 18:00 | 6.42 | 0.13 | 6.42 | 12.84 | 0.25 | 12.84 | 19.26 | 0.38 | 19.26 | 25.68 | 0.50 | 25.68 |\n",
    "| 19:00 | 6.42 | 0.13 | 0.13 | 12.84 | 0.25 | 0.25 | 19.26 | 0.38 | 0.38 | 25.68 | 0.50 | 0.50 |\n",
    "| 20:00 | 0.33 | 0.54 | 0.33 | 0.67 | 1.08 | 0.67 | 1.00 | 1.63 | 1.00 | 1.33 | 2.17 | 1.33 | \n",
    "| 21:00 | 0.33 | 0.33 | 6.28 | 0.67 | 0.67 | 12.56 | 1.00 | 1.00 | 18.84 | 1.33 | 1.33 | 25.12 |\n",
    "| 22:00 | 6.28 | 3.52 | 6.49 | 12.56 | 7.03 | 12.98 | 18.84 | 10.55 | 19.47 | 25.12 | 14.06 | 25.95 |\n",
    "| 23:00 | 6.70 | 6.28 | 3.31 | 13.39 | 12.56 | 6.61 | 20.09 | 18.84 | 9.92 | 26.79 | 25.12 | 13.23 |"
   ]
  },
  {
   "cell_type": "markdown",
   "metadata": {},
   "source": [
    "The daily schedule of Ventilation is defined on the table below at chpter 11 section 3."
   ]
  },
  {
   "cell_type": "code",
   "execution_count": 15,
   "metadata": {
    "collapsed": false
   },
   "outputs": [],
   "source": [
    "def get_E_E_VL(E_E_VL_p, E_E_VL_p_plus1, n_p):\n",
    "    if n_p < 1:\n",
    "        raise Exception('Number of person should not be less than 1 person.')\n",
    "    elif 1 <= n_p < 2:\n",
    "        return E_E_VL_p * (2 - n_p) / (2 - 1) + E_E_VL_p_plus1  * (n_p - 1) / (2 - 1)\n",
    "    elif  2 <= n_p < 3:\n",
    "        return E_E_VL_p * (3 - n_p) / (3 - 2) + E_E_VL_p_plus1  * (n_p - 2) / (3 - 2)\n",
    "    elif  3 <= n_p <= 4:\n",
    "        return E_E_VL_p * (4 - n_p) / (4 - 3) + E_E_VL_p_plus1  * (n_p - 3) / (4 - 3)\n",
    "    else:\n",
    "        raise Exception('Number of person should not be over 4 persons.')"
   ]
  },
  {
   "cell_type": "markdown",
   "metadata": {},
   "source": [
    "### Example"
   ]
  },
  {
   "cell_type": "markdown",
   "metadata": {},
   "source": [
    "$n_p$ = 1.4 (persons)  \n",
    "$E_{E,VL,p}$ = 0.00670 (kWh/h)  \n",
    "$E_{E,VL,p+1}$ = 0.01339 (kWh/h)"
   ]
  },
  {
   "cell_type": "code",
   "execution_count": 16,
   "metadata": {
    "collapsed": false
   },
   "outputs": [
    {
     "data": {
      "text/plain": [
       "0.009375999999999999"
      ]
     },
     "execution_count": 16,
     "metadata": {},
     "output_type": "execute_result"
    }
   ],
   "source": [
    "get_E_E_VL(0.00670, 0.01339, 1.4)"
   ]
  },
  {
   "cell_type": "markdown",
   "metadata": {},
   "source": [
    "Out of range of the number of person ERROR"
   ]
  },
  {
   "cell_type": "code",
   "execution_count": 17,
   "metadata": {
    "collapsed": false
   },
   "outputs": [
    {
     "name": "stdout",
     "output_type": "stream",
     "text": [
      "ERROR\n"
     ]
    }
   ],
   "source": [
    "try:\n",
    "    get_E_E_VL(0.00670, 0.01339, 0.9)\n",
    "except:\n",
    "    print(\"ERROR\")"
   ]
  },
  {
   "cell_type": "markdown",
   "metadata": {},
   "source": [
    "## the houly electric power of the local ventilation system consumed by the p person(s) / 1時間当たりの居住人数がp人における局所換気設備の消費電力量"
   ]
  },
  {
   "cell_type": "code",
   "execution_count": 18,
   "metadata": {
    "collapsed": true
   },
   "outputs": [],
   "source": [
    "# 1時間あたりの局所換気設備の消費電力量（Wh/h）\n",
    "data_p1_weekday      = [0.13,0.13,0.13,0.13,0.13,0.13,3.38,0.54,0.54,0.13,0.33,0.13,3.38,0.33,0.13,0.13,0.33,0.33,6.42,6.42,0.33,0.33,6.28,6.7]\n",
    "data_p1_holiday_out  = [0.13,0.13,0.13,0.13,0.13,0.13,0.33,0.33,7.05,0.13,0.13,0.13,0.13,0.13,0.13,0.13,0.13,0.13,0.13,0.13,0.54,0.33,3.52,6.28]\n",
    "data_p1_holiday_home = [0.13,0.13,0.13,0.13,0.13,0.13,0.13,0.54,3.79,0.33,0.54,0.33,3.38,0.33,0.13,0.13,0.54,6.42,6.42,0.13,0.33,6.28,6.49,3.31]\n",
    "data_p2_weekday      = [0.25,0.25,0.25,0.25,0.25,0.25,6.75,1.08,1.08,0.25,0.67,0.25,6.75,0.67,0.25,0.25,0.67,0.67,12.84,12.84,0.67,0.67,12.56,13.39]\n",
    "data_p2_holiday_out  = [0.25,0.25,0.25,0.25,0.25,0.25,0.67,0.67,14.09,0.25,0.25,0.25,0.25,0.25,0.25,0.25,0.25,0.25,0.25,0.25,1.08,0.67,7.03,12.56]\n",
    "data_p2_holiday_home = [0.25,0.25,0.25,0.25,0.25,0.25,0.25,1.08,7.59,0.67,1.08,0.67,6.75,0.67,0.25,0.25,1.08,12.84,12.84,0.25,0.67,12.56,12.98,6.61]\n",
    "data_p3_weekday      = [0.38,0.38,0.38,0.38,0.38,0.38,10.13,1.63,1.63,0.38,1,0.38,10.13,1,0.38,0.38,1,1,19.26,19.26,1,1,18.84,20.09]\n",
    "data_p3_holiday_out  = [0.38,0.38,0.38,0.38,0.38,0.38,1,1,21.14,0.38,0.38,0.38,0.38,0.38,0.38,0.38,0.38,0.38,0.38,0.38,1.63,1,10.55,18.84]\n",
    "data_p3_holiday_home = [0.38,0.38,0.38,0.38,0.38,0.38,0.38,1.63,11.38,1,1.63,1,10.13,1,0.38,0.38,1.63,19.26,19.26,0.38,1,18.84,19.47,9.92]\n",
    "data_p4_weekday      = [0.5,0.5,0.5,0.5,0.5,0.5,13.51,2.17,2.17,0.5,1.33,0.5,13.51,1.33,0.5,0.5,1.33,1.33,25.68,25.68,1.33,1.33,25.12,26.79]\n",
    "data_p4_holiday_out  = [0.5,0.5,0.5,0.5,0.5,0.5,1.33,1.33,28.18,0.5,0.5,0.5,0.5,0.5,0.5,0.5,0.5,0.5,0.5,0.5,2.17,1.33,14.06,25.12]\n",
    "data_p4_holiday_home = [0.5,0.5,0.5,0.5,0.5,0.5,0.5,2.17,15.18,1.33,2.17,1.33,13.51,1.33,0.5,0.5,2.17,25.68,25.68,0.5,1.33,25.12,25.95,13.23]"
   ]
  },
  {
   "cell_type": "code",
   "execution_count": 19,
   "metadata": {
    "collapsed": false
   },
   "outputs": [],
   "source": [
    "data = {\n",
    "         'p1' : { LS.SKD_V.W : data_p1_weekday, LS.SKD_V.HA : data_p1_holiday_out, LS.SKD_V.HH : data_p1_holiday_home },\n",
    "         'p2' : { LS.SKD_V.W : data_p2_weekday, LS.SKD_V.HA : data_p2_holiday_out, LS.SKD_V.HH : data_p2_holiday_home },\n",
    "         'p3' : { LS.SKD_V.W : data_p3_weekday, LS.SKD_V.HA : data_p3_holiday_out, LS.SKD_V.HH : data_p3_holiday_home },\n",
    "         'p4' : { LS.SKD_V.W : data_p4_weekday, LS.SKD_V.HA : data_p4_holiday_out, LS.SKD_V.HH : data_p4_holiday_home }\n",
    "       }"
   ]
  },
  {
   "cell_type": "code",
   "execution_count": 20,
   "metadata": {
    "collapsed": true
   },
   "outputs": [],
   "source": [
    "def get_E_E_VL_p(person, day, hour):\n",
    "    get_hour = int(hour.split('時')[0])\n",
    " \n",
    "    return data[person][LS.get_Schedule('Ventilation',day)][get_hour] / 1000"
   ]
  },
  {
   "cell_type": "code",
   "execution_count": 21,
   "metadata": {
    "collapsed": false
   },
   "outputs": [
    {
     "data": {
      "text/plain": [
       "0.00628"
      ]
     },
     "execution_count": 21,
     "metadata": {},
     "output_type": "execute_result"
    }
   ],
   "source": [
    "get_E_E_VL_p(person = 'p1', day = '1/2', hour = '22時')"
   ]
  },
  {
   "cell_type": "code",
   "execution_count": 22,
   "metadata": {
    "collapsed": false
   },
   "outputs": [
    {
     "data": {
      "text/plain": [
       "0.01256"
      ]
     },
     "execution_count": 22,
     "metadata": {},
     "output_type": "execute_result"
    }
   ],
   "source": [
    "get_E_E_VL_p(person = 'p2', day = '1/2', hour = '22時')"
   ]
  },
  {
   "cell_type": "markdown",
   "metadata": {},
   "source": [
    "# 計算方法（統合）/ Integrated Calculation"
   ]
  },
  {
   "cell_type": "code",
   "execution_count": 23,
   "metadata": {
    "collapsed": true
   },
   "outputs": [],
   "source": [
    "def result(N = 0, A_A = 0, e = 0, P = 0, V_d = 0, get_Type = \"\", get_Saving = \"\", day = \"\", hour=\"\"):\n",
    "    \n",
    "    # Power of local ventilation sysmtem / 局所換気設備の消費電力量\n",
    "    def E_E_VL(A_A, day, hour):\n",
    "        if A_A < 30:  # 床面積が30m2未満の場合は居住人数は1人とみなす\n",
    "            p = 1\n",
    "            return get_E_E_VL_p(person = 'p' + str(p), day = day, hour = hour)\n",
    "        elif A_A >= 120:   # 床面積が120m2以上の場合は居住人数は4人とみなす\n",
    "            p = 4\n",
    "            return get_E_E_VL_p(person = 'p' + str(p), day = day, hour = hour)\n",
    "        else:\n",
    "            p_minus = math.floor(A_A / 30)\n",
    "            p_plus  = math.floor(A_A / 30) + 1\n",
    "            n_p = A_A / 30\n",
    "            E_E_VL_p_minus = get_E_E_VL_p(person = 'p' + str(p_minus), day = day, hour = hour)\n",
    "            E_E_VL_p_plus  = get_E_E_VL_p(person = 'p' + str(p_plus),  day = day, hour = hour)\n",
    "            return get_E_E_VL(E_E_VL_p_minus, E_E_VL_p_plus, n_p)\n",
    "        \n",
    "    # 全般換気設備の消費電力量\n",
    "    def E_E_VG(A_A, N, e, P, V_d, get_Type, get_Saving):\n",
    "        V_R = get_V_R(A_A, N, e)\n",
    "        f_SFP = get_f_SFP(P, V_d, get_Type, get_Saving)\n",
    "        return get_E_E_VG(f_SFP, V_R)\n",
    "    \n",
    "    print('局所換気の消費電力量' + str(E_E_VL(A_A, day, hour)))\n",
    "    print('全般換気設備の消費電力量' + str(E_E_VG(A_A, N, e, P, V_d, get_Type, get_Saving)))\n",
    "    \n",
    "    # 機械換気設備の消費電力量\n",
    "    E_E_V = get_E_E_V(E_E_VG(A_A, N, e, P, V_d, get_Type, get_Saving), E_E_VL(A_A, day, hour))\n",
    "    print('機械換気設備の消費電力量' + str(E_E_V))\n",
    "    "
   ]
  },
  {
   "cell_type": "markdown",
   "metadata": {},
   "source": [
    "### Example"
   ]
  },
  {
   "cell_type": "markdown",
   "metadata": {},
   "source": [
    "$ N $ = 0.5 (1/h)  \n",
    "$ A_A $ =  120 (m<sup>2</sup>)  \n",
    "$ e $ = 1.0  \n",
    "$ P $ = 50.0 (W)  \n",
    "$ V_d $ = 270.0 (m<sup>3</sup>/h)  \n",
    "$ day $ = 1/1  \n",
    "$ hour $ = 23時"
   ]
  },
  {
   "cell_type": "code",
   "execution_count": 24,
   "metadata": {
    "collapsed": false
   },
   "outputs": [
    {
     "name": "stdout",
     "output_type": "stream",
     "text": [
      "局所換気の消費電力量0.01323\n",
      "全般換気設備の消費電力量0.030096\n",
      "機械換気設備の消費電力量0.043326\n"
     ]
    }
   ],
   "source": [
    "result(N= 0.5, A_A = 120, e = 1.0, P = 50.0, V_d = 270.0, day = '1/1', hour = '23時')"
   ]
  }
 ],
 "metadata": {
  "kernelspec": {
   "display_name": "Python 3",
   "language": "python",
   "name": "python3"
  },
  "language_info": {
   "codemirror_mode": {
    "name": "ipython",
    "version": 3
   },
   "file_extension": ".py",
   "mimetype": "text/x-python",
   "name": "python",
   "nbconvert_exporter": "python",
   "pygments_lexer": "ipython3",
   "version": "3.6.2"
  }
 },
 "nbformat": 4,
 "nbformat_minor": 2
}
