{
 "cells": [
  {
   "cell_type": "code",
   "execution_count": 1,
   "metadata": {
    "collapsed": true
   },
   "outputs": [],
   "source": [
    "import math\n",
    "from enum import Enum"
   ]
  },
  {
   "cell_type": "markdown",
   "metadata": {},
   "source": [
    "# Chapter V Ventilation System / 換気設備の計算方法"
   ]
  },
  {
   "cell_type": "markdown",
   "metadata": {},
   "source": [
    "## Introduction"
   ]
  },
  {
   "cell_type": "markdown",
   "metadata": {},
   "source": [
    "This calculation depends on the specification of \"Chapter V Ventilation System\" in BRI."
   ]
  },
  {
   "cell_type": "markdown",
   "metadata": {},
   "source": [
    "## Electric Power of Mechanical Ventilation System / 機械換気設備の消費電力量"
   ]
  },
  {
   "cell_type": "markdown",
   "metadata": {},
   "source": [
    "Horly electric power of mechanical ventilation system $ E_{E,V} $ is calculated by the equation (1):\n",
    "\n",
    "$$\n",
    "\\begin{equation}\n",
    "    \\displaystyle E_{E,V} = E_{E,VG} + E_{E,VL} \\tag{1}  \n",
    "\\end{equation}\n",
    "$$\n",
    "\n",
    "Where  \n",
    "$ E_{E,V} $ is the horly electric power of mechanical ventilation system / 1時間当たりの機械換気設備の消費電力量 (kWh/h);  \n",
    "$ E_{E,VG} $ is the hourly electric power of general mecanical ventilation system / 1時間当たりの全般換気設備の消費電力量 (kWh/h);    \n",
    "$ E_{E,VL} $ is the hourly electric power of local mechanical ventilation system / 1時間当たりの局所換気設備の消費電力量 (kWh/h)."
   ]
  },
  {
   "cell_type": "code",
   "execution_count": 2,
   "metadata": {
    "collapsed": true
   },
   "outputs": [],
   "source": [
    "def get_E_E_V(E_E_VG, E_E_VL):\n",
    "    return E_E_VG + E_E_VL"
   ]
  },
  {
   "cell_type": "markdown",
   "metadata": {},
   "source": [
    "### Example"
   ]
  },
  {
   "cell_type": "markdown",
   "metadata": {},
   "source": [
    "$ E_{E,VG} $ = 0.3 (kWh/h)  \n",
    "$ E_{E,VL} $ = 0.1 (kWh/h)"
   ]
  },
  {
   "cell_type": "code",
   "execution_count": 19,
   "metadata": {
    "collapsed": false
   },
   "outputs": [
    {
     "data": {
      "text/plain": [
       "0.4"
      ]
     },
     "execution_count": 19,
     "metadata": {},
     "output_type": "execute_result"
    }
   ],
   "source": [
    "get_E_E_V(0.3, 0.1)"
   ]
  },
  {
   "cell_type": "markdown",
   "metadata": {},
   "source": [
    "## Electric Power of General Mechanical Ventilation System / 全般換気設備の消費電力量"
   ]
  },
  {
   "cell_type": "markdown",
   "metadata": {},
   "source": [
    "The hourly electric power of general mechanical ventilation system $ E_{E,VG} $ is calculated by the equation (2):  \n",
    "\n",
    "$$\n",
    "\\begin{equation}\n",
    "    E_{E,VG} = f_{SFP} \\times V_R \\times 10^{-3} \\tag{2}\n",
    "\\end{equation}\n",
    "$$\n",
    "\n",
    "Where  \n",
    "$ f_{SFP} $ is the SFP ( specific Fan Power ) of general mechanical ventilation system / 全般換気設備の比消費電力 (W/(m<sup>3</sup>/h));  \n",
    "$ V_R $ is the referenced ventilation amount of general mechanical ventilation system / 全般換気設備の参照機械換気量 (m<sup>3</sup>/h)."
   ]
  },
  {
   "cell_type": "code",
   "execution_count": 20,
   "metadata": {
    "collapsed": true
   },
   "outputs": [],
   "source": [
    "def get_E_E_VG(f_SFP, V_R):\n",
    "    return f_SFP * V_R * 10**(-3)"
   ]
  },
  {
   "cell_type": "markdown",
   "metadata": {},
   "source": [
    "### Example"
   ]
  },
  {
   "cell_type": "markdown",
   "metadata": {},
   "source": [
    "$ f_{SFP} $ = 0.3 (W/(m<sup>3</sup>/h))  \n",
    "$ V_R $ = 3.5 (m<sup>3</sup>/h)"
   ]
  },
  {
   "cell_type": "code",
   "execution_count": 18,
   "metadata": {
    "collapsed": false
   },
   "outputs": [
    {
     "data": {
      "text/plain": [
       "0.0010500000000000002"
      ]
     },
     "execution_count": 18,
     "metadata": {},
     "output_type": "execute_result"
    }
   ],
   "source": [
    "get_E_E_VG(0.3, 3.5)"
   ]
  },
  {
   "cell_type": "markdown",
   "metadata": {},
   "source": [
    "## 定義 / Definition"
   ]
  },
  {
   "cell_type": "markdown",
   "metadata": {},
   "source": [
    "The referenced amount of mechanical ventilation system $V_R$ is calculated by equation(3):\n",
    "\n",
    "$$\n",
    "\\begin{equation}\n",
    "    V_R = A_A \\times H_R \\times N \\times a \\div e \\tag{3}\n",
    "\\end{equation}\n",
    "$$\n",
    "\n",
    "Where  \n",
    "$ A_A $ is the floor area / 床面積の合計 (m<sup>2</sup>);  \n",
    "$ H_R $ is the referenced ceiling height / 参照天井高さ (m)(=2.4m);  \n",
    "$ N $ is the ventilation rate / 換気回数 (1/h);  \n",
    "$ a $ is the allowance ratio of the ventilation amount of the general mechanical ventilation system / 全般換気設備の換気量の余裕率 (=1.1)  \n",
    "$ e $ is the effective ventilation ratio / 有効換気量率."
   ]
  },
  {
   "cell_type": "code",
   "execution_count": 6,
   "metadata": {
    "collapsed": true
   },
   "outputs": [],
   "source": [
    "def get_V_R(A_A, N, e):\n",
    "    H_R = 2.4 # 参照天井高さ(m)\n",
    "    a = 1.1 # 全般換気設備の換気量の余裕率\n",
    "    return A_A * H_R * N * a / e"
   ]
  },
  {
   "cell_type": "markdown",
   "metadata": {},
   "source": [
    "### Example"
   ]
  },
  {
   "cell_type": "markdown",
   "metadata": {},
   "source": [
    "$A_A$ = 10.0 (m<sup>2</sup>)  \n",
    "$N$ = 5.0 (1/h)  \n",
    "$e$ = 1.0"
   ]
  },
  {
   "cell_type": "code",
   "execution_count": 7,
   "metadata": {
    "collapsed": false
   },
   "outputs": [
    {
     "data": {
      "text/plain": [
       "132.0"
      ]
     },
     "execution_count": 7,
     "metadata": {},
     "output_type": "execute_result"
    }
   ],
   "source": [
    "get_V_R(10.0, 5.0, 1.0)"
   ]
  },
  {
   "cell_type": "markdown",
   "metadata": {},
   "source": [
    "## 定義 / Definition"
   ]
  },
  {
   "cell_type": "markdown",
   "metadata": {},
   "source": [
    "The specific fan power is calculated based on the following (a) and (b).  "
   ]
  },
  {
   "cell_type": "markdown",
   "metadata": {},
   "source": [
    "### (a) Calculation based on Specification / 仕様により計算する方法"
   ]
  },
  {
   "cell_type": "markdown",
   "metadata": {},
   "source": [
    "#### (a-1) Ventilation System with Duct / ダクト式換気設備の場合"
   ]
  },
  {
   "cell_type": "markdown",
   "metadata": {},
   "source": [
    "$$ f_{SFP} = f_{SFP,basic} \\times r_{ES} $$\n",
    "\n",
    "$ f_{SFP,basic} $ is the basic SFP, and defined on the table below according to the type of the general mechanical ventilation system.\n",
    "\n",
    "| Type of General Ventilation System | Basic SFP |\n",
    "| ------------------ | -------------------- |\n",
    "| Balanced ventilation system with duct and heat exchanger <br> ダクト式第一種換気設備(熱交換型換気設備) | 0.70 |\n",
    "| Balanced ventilation system with duct <br> ダクト式第一種換気設備 | 0.50 |\n",
    "| Supply only or exhaust only ventilation system with duct <br> ダクト式第二種換気設備又はダクト式第三種換気設備 | 0.40 |\n",
    "\n",
    "$ r_{ES} $ is the ratio of the effect on the energy saving technique(s) and defined on the table below according to the type of the general mechanical ventilation, the inside diameter of the duct and the type of the moter.\n",
    "\n",
    "| Type of Ventilation System | Inside Diameter of Duct | Type of Moter | Ratio |\n",
    "| -------------- | ------------ | ------------ | ------ |\n",
    "| Balanced ventilation system with duct <br> ダクト式第一種換気設備 | Use the duct with the inside diameter of more than 75mm <br> 内径75mm以上のダクトのみ使用 | DC <br> 直流 | 0.455 |\n",
    "| Balanced ventilation system with duct <br> ダクト式第一種換気設備 | Use the duct with the inside diameter of more than 75mm <br> 内径75mm以上のダクトのみ使用 | AC or Combined Use of AC and DC <br> 交流、又は直流と交流の併用 | 0.700 |\n",
    "| Balanced ventilation system with duct <br> ダクト式第一種換気設備 | Others <br> 上記以外 | DC or AC <br> 直流あるいは交流 | 1.000 |\n",
    "| Supply only or exhaust only ventilation system with duct <br> ダクト式第二種換気設備又はダクト式第三種換気設備 | Use the duct with the inside diameter of more than 75mm <br> 内径75mm以上のダクトのみ使用 | DC <br> 直流 | 0.360 |\n",
    "| Supply only or exhaust only ventilation system with duct <br> ダクト式第二種換気設備又はダクト式第三種換気設備 | Use the duct with the inside diameter of more than 75mm <br> 内径75mm以上のダクトのみ使用 | AC or Combined Use of AC and DC <br> 交流、又は直流と交流の併用 | 0.600 |\n",
    "| Supply only or exhaust only ventilation system with duct <br> ダクト式第二種換気設備又はダクト式第三種換気設備 | Others <br> 上記以外 | DC or AC <br> 直流あるいは交流 | 1.000 |"
   ]
  },
  {
   "cell_type": "markdown",
   "metadata": {},
   "source": [
    "#### (a-2) Wall-mounted Ventilation Unit / 壁付け式換気設備の場合"
   ]
  },
  {
   "cell_type": "markdown",
   "metadata": {},
   "source": [
    "$ f_{SFP} $ is defined in the table below.\n",
    "\n",
    "| Type of Ventilation | SFP |\n",
    "| ------------------ | ---------- |\n",
    "| Balanced ventilation system with duct and heat exchanger <br> ダクト式第一種換気設備(熱交換型換気設備) | 0.70 |\n",
    "| Balanced ventilation system with duct <br> ダクト式第一種換気設備 | 0.40 |\n",
    "| Supply onlyventilation system with duct <br> ダクト式第二種換気設備 | 0.30 |\n",
    "| Exhaust only ventilation system with duct <br> ダクト式第三種換気設備 | 0.30 |"
   ]
  },
  {
   "cell_type": "markdown",
   "metadata": {},
   "source": [
    "### (b) Calculation based on Power and Designed Ventilation Amount / 消費電力と設計風量により求める方法"
   ]
  },
  {
   "cell_type": "markdown",
   "metadata": {},
   "source": [
    "$ f_{SFP} $ is calculated by the equation (4), and the calculated value shall be round up to the second decimal place.  \n",
    "$$\n",
    "\\begin{equation}\n",
    "    f_{SFP} = P \\div V_d \\tag{4}\n",
    "\\end{equation}\n",
    "$$\n",
    "\n",
    "Where  \n",
    "$ P $ is the power of the mechanical general ventilation system (W);  \n",
    "$ V_d $ is the designed ventilation amount of the mechanical general ventilation system (m<sup>3</sup>/h)."
   ]
  },
  {
   "cell_type": "code",
   "execution_count": 8,
   "metadata": {
    "collapsed": true
   },
   "outputs": [],
   "source": [
    "class Type(Enum):\n",
    "    duct1_EXCH    =0.70 # ダクト式第一種換気設備（熱交換型換気設備）\n",
    "    duct1         =0.50 # ダクト式第一種換気設備\n",
    "    duct2or3      =0.40 # ダクト式第二種換気設備又はダクト式第三種換気設備\n",
    "    wall1_EXCH    =0.70 # 壁付け式第一種換気設備（熱交換型換気設備）\n",
    "    wall1         =0.40 # 壁付け式第一種換気設備\n",
    "    wall2         =0.30 # 壁付け式第二種換気設備\n",
    "    wall3         =0.30 # 壁付け式第三種換気設備\n",
    "    \n",
    "class Saving(Enum):\n",
    "    duct1_over75mm_DC    = 0.455 # ダクト式第一種換気設備、内径75mm以上のダクトのみ使用、直流\n",
    "    duct1_over75mm_AC    = 0.700 # ダクト式第一種換気設備、内径75mm以上のダクトのみ使用、交流、又は直流と交流の併用\n",
    "    duct1_other          = 1.000 # ダクト式第一種換気設備、上記以外\n",
    "    duct2or3_over75mm_DC = 0.360 # ダクト式第二種又は第三種換気設備、内径75mm以上のダクトのみ使用、直流\n",
    "    duct2or3_over75mm_AC = 0.600 # ダクト式第二種又は第三種換気設備、内径75mm以上のダクトのみ使用、交流、又は直流と交流の併用\n",
    "    duct2or3_other       = 1.000 # ダクト式第二種又は第三種換気設備、上記以外\n",
    "\n",
    "def get_f_SFP(P = 0, V_d = 0, get_Type = \"\", get_Saving = \"\"):\n",
    "    # 式(4)により算出する場合\n",
    "    if get_Type == \"\" and get_Saving == \"\":\n",
    "        return math.ceil(P / V_d * 100) / 100\n",
    "    \n",
    "    # 付録Aに規定する値を用いる場合\n",
    "    if P == 0 and V_d == 0:\n",
    "        Value1 = Type[get_Type].value\n",
    "        \n",
    "        if \"duct1\" in get_Type and \"duct1\" in get_Saving:\n",
    "            Value2 = Saving[get_Saving].value\n",
    "        elif \"duct2or3\" in get_Type and \"duct2or3\" in get_Saving:\n",
    "            Value2 = Saving[get_Saving].value\n",
    "        else:\n",
    "            Value2 = 1\n",
    "        \n",
    "        return Value1 * Value2\n",
    "    \n",
    "    else:\n",
    "        return 1"
   ]
  },
  {
   "cell_type": "markdown",
   "metadata": {},
   "source": [
    "### Example"
   ]
  },
  {
   "cell_type": "markdown",
   "metadata": {},
   "source": [
    "$P$ = 50.0 (W)  \n",
    "$V_d$ = 270.0 (m<sup>3</sup>/h)  "
   ]
  },
  {
   "cell_type": "code",
   "execution_count": 9,
   "metadata": {
    "collapsed": false
   },
   "outputs": [
    {
     "data": {
      "text/plain": [
       "0.19"
      ]
     },
     "execution_count": 9,
     "metadata": {},
     "output_type": "execute_result"
    }
   ],
   "source": [
    "get_f_SFP(50.0, 270.0, \"\", \"\")"
   ]
  },
  {
   "cell_type": "markdown",
   "metadata": {},
   "source": [
    "### Example"
   ]
  },
  {
   "cell_type": "markdown",
   "metadata": {},
   "source": [
    "Type = The supply only ventilation system with duct  \n",
    "Inside Diameter of Duct = Use the duct with the inside diameter of more than 75mm  \n",
    "Type of Motor = DC"
   ]
  },
  {
   "cell_type": "code",
   "execution_count": 10,
   "metadata": {
    "collapsed": false
   },
   "outputs": [
    {
     "data": {
      "text/plain": [
       "0.144"
      ]
     },
     "execution_count": 10,
     "metadata": {},
     "output_type": "execute_result"
    }
   ],
   "source": [
    "get_f_SFP(0,0,\"duct2or3\",\"duct2or3_over75mm_DC\")"
   ]
  },
  {
   "cell_type": "markdown",
   "metadata": {},
   "source": [
    "## Electric Power of Local Mechanical Ventilation System / 局所換気設備の消費電力量"
   ]
  },
  {
   "cell_type": "markdown",
   "metadata": {},
   "source": [
    "The electric power of local mechanical ventilation system $ E_{E,VL} $ is calculated by the equation (5):  \n",
    "$ E_{E,VL} = \\left\\{\n",
    "\\begin{array}{ll}\n",
    "E_{E,VL,p} \\mid _{p=1} \\times \\frac{2 - n_p}{2 - 1} + E_{E,VL,p} \\mid _{p=2} \\times \\frac{n_p - 1}{2 - 1} & (1 \\leq n_p < 2 )\\\\\n",
    "E_{E,VL,p} \\mid _{p=2} \\times \\frac{3 - n_p}{3 - 2} + E_{E,VL,p} \\mid _{p=3} \\times \\frac{n_p - 2}{3 - 2} & (2 \\leq n_p < 3)\\\\ \\tag{5}\n",
    "E_{E,VL,p} \\mid _{p=3} \\times \\frac{4 - n_p}{4 - 3} + E_{E,VL,p} \\mid _{p=3} \\times \\frac{n_p - 3}{4 - 3} & (3 \\leq n_p < 4)\n",
    "\\end{array}\n",
    "\\right.$  \n",
    "\n",
    "Where  \n",
    "$ E_{E,VL} $ is the hourly electric power of the local ventilation system / 1時間当たりの局所換気設備の消費電力量 (kWh/h);  \n",
    "$ E_{E,VL,p} $ is the houlr electric power of the local ventilation system consumed by the p person(s) / 1時間当たりの居住人数がp人における局所換気設備の消費電力量 (kWh/h);  \n",
    "$ n_p $ is the vertical number of the ocupant(s) / 仮想居住人数."
   ]
  },
  {
   "cell_type": "markdown",
   "metadata": {},
   "source": [
    "$ E_{E,VL,p} $ is defined on the table below acording to the number of the ocupant(s), weekday/holiday and in/not home.  \n",
    "<br>\n",
    "<div style=\"text-align: center;\">\n",
    "    **table.  the hourly electric power of the local ventilation system(Wh/h)**\n",
    "</div>  \n",
    "\n",
    "| time <br> (hr) | 1 person<br>weekday　　 | 1 person<br>holiday, not home | 1 person<br>holiday, in home | 2 persons<br>weekday　　 | 2 person<br>holiday, not home | 2 person<br>holiday, in home | 3 person<br>weekday　　 | 3 person<br>holiday, not home | 3 person<br>holiday, in home | 4 person<br>weekday　　 | 4 person<br>holiday, not home | 4 person<br>holiday, in home |\n",
    "| --- | --- | --- | --- | --- | --- | --- | --- | --- | --- | --- | --- | --- |\n",
    "| 0:00 | 0.13 | 0.13 | 0.13 | 0.25 | 0.25 | 0.25 | 0.38 | 0.38 | 0.38 | 0.50 | 0.50 | 0.50 |\n",
    "| 1:00 | 0.13 | 0.13 | 0.13 | 0.25 | 0.25 | 0.25 | 0.38 | 0.38 | 0.38 | 0.50 | 0.50 | 0.50 |\n",
    "| 2:00 | 0.13 | 0.13 | 0.13 | 0.25 | 0.25 | 0.25 | 0.38 | 0.38 | 0.38 | 0.50 | 0.50 | 0.50 |\n",
    "| 3:00 | 0.13 | 0.13 | 0.13 | 0.25 | 0.25 | 0.25 | 0.38 | 0.38 | 0.38 | 0.50 | 0.50 | 0.50 |\n",
    "| 4:00 | 0.13 | 0.13 | 0.13 | 0.25 | 0.25 | 0.25 | 0.38 | 0.38 | 0.38 | 0.50 | 0.50 | 0.50 |\n",
    "| 5:00 | 0.13 | 0.13 | 0.13 | 0.25 | 0.25 | 0.25 | 0.38 | 0.38 | 0.38 | 0.50 | 0.50 | 0.50 |\n",
    "| 6:00 | 3.38 | 0.33 | 0.13 | 6.75 | 0.67 | 0.25 | 10.13 | 1.00 | 0.38 | 13.51 | 1.33 | 0.50 |\n",
    "| 7:00 | 0.54 | 0.33 | 0.54 | 1.08 | 0.67 | 1.08 | 1.63 | 1.00 | 1.63 | 2.17 | 1.33 | 2.17 |\n",
    "| 8:00 | 0.54 | 7.05 | 3.79 | 1.08 | 14.09 | 7.59 | 1.63 | 21.14 | 11.38 | 2.17 | 28.18 | 15.18 |\n",
    "| 9:00 | 0.13 | 0.13 | 0.33 | 0.25 | 0.25 | 0.67 | 0.38 | 0.38 | 1.00 | 0.50 | 0.50 | 1.33 |\n",
    "| 10:00 | 0.33 | 0.13 | 0.54 | 0.67 | 0.25 | 1.08 | 1.00 | 0.38 | 1.63 | 1.33 | 0.50 | 2.17 |\n",
    "| 11:00 | 0.13 | 0.13 | 0.33 | 0.25 | 0.25 | 0.67 | 0.38 | 0.38 | 1.00 | 0.50 | 0.50 | 1.33 |\n",
    "| 12:00 | 3.38 | 0.13 | 3.38 | 6.75 | 0.25 | 6.75 | 10.13 | 0.38 | 10.13 | 13.51 | 0.50 | 13.51 |\n",
    "| 13:00 | 0.33 | 0.13 | 0.33 | 0.67 | 0.25 | 0.67 | 1.00 | 0.38 | 1.00 | 1.33 | 0.50 | 1.33 |\n",
    "| 14:00 | 0.13 | 0.13 | 0.13 | 0.25 | 0.25 | 0.25 | 0.38 | 0.38 | 0.38 | 0.50 | 0.50 | 0.50 |\n",
    "| 15:00 | 0.13 | 0.13 | 0.13 | 0.25 | 0.25 | 0.25 | 0.38 | 0.38 | 0.38 | 0.50 | 0.50 | 0.50 |\n",
    "| 16:00 | 0.33 | 0.13 | 0.54 | 0.67 | 0.25 | 1.08 | 1.00 | 0.38 | 1.63 | 1.33 | 0.50 | 2.17 |\n",
    "| 17:00 | 0.33 | 0.13 | 6.42 | 0.67 | 0.25 | 12.84 | 1.00 | 0.38 | 19.26 | 1.33 | 0.50 | 25.68 |\n",
    "| 18:00 | 6.42 | 0.13 | 6.42 | 12.84 | 0.25 | 12.84 | 19.26 | 0.38 | 19.26 | 25.68 | 0.50 | 25.68 |\n",
    "| 19:00 | 6.42 | 0.13 | 0.13 | 12.84 | 0.25 | 0.25 | 19.26 | 0.38 | 0.38 | 25.68 | 0.50 | 0.50 |\n",
    "| 20:00 | 0.33 | 0.54 | 0.33 | 0.67 | 1.08 | 0.67 | 1.00 | 1.63 | 1.00 | 1.33 | 2.17 | 1.33 | \n",
    "| 21:00 | 0.33 | 0.33 | 6.28 | 0.67 | 0.67 | 12.56 | 1.00 | 1.00 | 18.84 | 1.33 | 1.33 | 25.12 |\n",
    "| 22:00 | 6.28 | 3.52 | 6.49 | 12.56 | 7.03 | 12.98 | 18.84 | 10.55 | 19.47 | 25.12 | 14.06 | 25.95 |\n",
    "| 23:00 | 6.70 | 6.28 | 3.31 | 13.39 | 12.56 | 6.61 | 20.09 | 18.84 | 9.92 | 26.79 | 25.12 | 13.23 |"
   ]
  },
  {
   "cell_type": "markdown",
   "metadata": {},
   "source": [
    "The daily schedule of Ventilation is defined on the table below at chpter 11 section 3.\n",
    "\n",
    "| 日付 | 負荷条件 | 日付 | 負荷条件 | 日付 | 負荷条件 | 日付 | 負荷条件 | 日付 | 負荷条件 | 日付 | 負荷条件 | \n",
    "  | --  | -------  | ---  | -------- | ---- | -------- | ---- | -------- |\n",
    " | 1月1日 | 休日在 | 3月1日 | 平日 | 5月1日 | 平日 | 7月1日 | 休日在 | 9月1日 | 平日 | 11月1日 | 平日 | \n",
    " | 1月2日 | 平日 | 3月2日 | 平日 | 5月2日 | 平日 | 7月2日 | 休日在 | 9月2日 | 休日在 | 11月2日 | 平日 | \n",
    " | 1月3日 | 平日 | 3月3日 | 平日 | 5月3日 | 休日外 | 7月3日 | 平日 | 9月3日 | 休日外 | 11月3日 | 休日在 | \n",
    " | 1月4日 | 平日 | 3月4日 | 休日在 | 5月4日 | 休日外 | 7月4日 | 平日 | 9月4日 | 平日 | 11月4日 | 休日在 | \n",
    " | 1月5日 | 平日 | 3月5日 | 休日外 | 5月5日 | 休日在 | 7月5日 | 平日 | 9月5日 | 平日 | 11月5日 | 休日在 | \n",
    " | 1月6日 | 平日 | 3月6日 | 平日 | 5月6日 | 休日在 | 7月6日 | 平日 | 9月6日 | 平日 | 11月6日 | 平日 | \n",
    " | 1月7日 | 休日在 | 3月7日 | 平日 | 5月7日 | 休日在 | 7月7日 | 平日 | 9月7日 | 平日 | 11月7日 | 平日 | \n",
    " | 1月8日 | 休日外 | 3月8日 | 平日 | 5月8日 | 平日 | 7月8日 | 休日在 | 9月8日 | 平日 | 11月8日 | 平日 | \n",
    " | 1月9日 | 平日 | 3月9日 | 平日 | 5月9日 | 平日 | 7月9日 | 休日外 | 9月9日 | 休日在 | 11月9日 | 平日 | \n",
    " | 1月10日 | 平日 | 3月10日 | 平日 | 5月10日 | 平日 | 7月10日 | 平日 | 9月10日 | 休日在 | 11月10日 | 平日 | \n",
    " | 1月11日 | 平日 | 3月11日 | 休日在 | 5月11日 | 平日 | 7月11日 | 平日 | 9月11日 | 平日 | 11月11日 | 休日在 | \n",
    " | 1月12日 | 平日 | 3月12日 | 休日在 | 5月12日 | 平日 | 7月12日 | 平日 | 9月12日 | 平日 | 11月12日 | 休日外 | \n",
    " | 1月13日 | 平日 | 3月13日 | 平日 | 5月13日 | 休日在 | 7月13日 | 平日 | 9月13日 | 平日 | 11月13日 | 平日 | \n",
    " | 1月14日 | 休日在 | 3月14日 | 平日 | 5月14日 | 休日外 | 7月14日 | 平日 | 9月14日 | 平日 | 11月14日 | 平日 | \n",
    " | 1月15日 | 休日在 | 3月15日 | 平日 | 5月15日 | 平日 | 7月15日 | 休日在 | 9月15日 | 休日外 | 11月15日 | 平日 | \n",
    " | 1月16日 | 平日 | 3月16日 | 平日 | 5月16日 | 平日 | 7月16日 | 休日在 | 9月16日 | 休日在 | 11月16日 | 平日 | \n",
    " | 1月17日 | 平日 | 3月17日 | 平日 | 5月17日 | 平日 | 7月17日 | 平日 | 9月17日 | 休日外 | 11月17日 | 平日 | \n",
    " | 1月18日 | 平日 | 3月18日 | 休日在 | 5月18日 | 平日 | 7月18日 | 平日 | 9月18日 | 平日 | 11月18日 | 休日在 | \n",
    " | 1月19日 | 平日 | 3月19日 | 休日外 | 5月19日 | 平日 | 7月19日 | 平日 | 9月19日 | 平日 | 11月19日 | 休日在 | \n",
    " | 1月20日 | 平日 | 3月20日 | 平日 | 5月20日 | 休日在 | 7月20日 | 休日在 | 9月20日 | 平日 | 11月20日 | 平日 | \n",
    " | 1月21日 | 休日在 | 3月21日 | 休日在 | 5月21日 | 休日在 | 7月21日 | 平日 | 9月21日 | 平日 | 11月21日 | 平日 | \n",
    " | 1月22日 | 休日外 | 3月22日 | 平日 | 5月22日 | 平日 | 7月22日 | 休日在 | 9月22日 | 平日 | 11月22日 | 平日 | \n",
    " | 1月23日 | 平日 | 3月23日 | 平日 | 5月23日 | 平日 | 7月23日 | 休日外 | 9月23日 | 休日在 | 11月23日 | 休日在 | \n",
    " | 1月24日 | 平日 | 3月24日 | 平日 | 5月24日 | 平日 | 7月24日 | 平日 | 9月24日 | 休日在 | 11月24日 | 平日 | \n",
    " | 1月25日 | 平日 | 3月25日 | 休日在 | 5月25日 | 平日 | 7月25日 | 平日 | 9月25日 | 平日 | 11月25日 | 休日在 | \n",
    " | 1月26日 | 平日 | 3月26日 | 休日在 | 5月26日 | 平日 | 7月26日 | 平日 | 9月26日 | 平日 | 11月26日 | 休日外 | \n",
    " | 1月27日 | 平日 | 3月27日 | 平日 | 5月27日 | 休日在 | 7月27日 | 平日 | 9月27日 | 平日 | 11月27日 | 平日 | \n",
    " | 1月28日 | 休日在 | 3月28日 | 平日 | 5月28日 | 休日外 | 7月28日 | 平日 | 9月28日 | 平日 | 11月28日 | 平日 | \n",
    " | 1月29日 | 休日在 | 3月29日 | 平日 | 5月29日 | 平日 | 7月29日 | 休日在 | 9月29日 | 平日 | 11月29日 | 平日 | \n",
    " | 1月30日 | 平日 | 3月30日 | 平日 | 5月30日 | 平日 | 7月30日 | 休日在 | 9月30日 | 休日在 | 11月30日 | 平日 | \n",
    " | 1月31日 | 平日 | 3月31日 | 平日 | 5月31日 | 平日 | 7月31日 | 平日 | 10月1日 | 休日外 | 12月1日 | 平日 | \n",
    " | 2月1日 | 平日 | 4月1日 | 休日在 | 6月1日 | 平日 | 8月1日 | 平日 | 10月2日 | 平日 | 12月2日 | 休日在 | \n",
    " | 2月2日 | 平日 | 4月2日 | 休日外 | 6月2日 | 平日 | 8月2日 | 平日 | 10月3日 | 平日 | 12月3日 | 休日在 | \n",
    " | 2月3日 | 平日 | 4月3日 | 平日 | 6月3日 | 休日在 | 8月3日 | 平日 | 10月4日 | 平日 | 12月4日 | 平日 | \n",
    " | 2月4日 | 休日在 | 4月4日 | 平日 | 6月4日 | 休日在 | 8月4日 | 平日 | 10月5日 | 平日 | 12月5日 | 平日 | \n",
    " | 2月5日 | 休日外 | 4月5日 | 平日 | 6月5日 | 平日 | 8月5日 | 休日在 | 10月6日 | 平日 | 12月6日 | 平日 | \n",
    " | 2月6日 | 平日 | 4月6日 | 平日 | 6月6日 | 平日 | 8月6日 | 休日外 | 10月7日 | 休日在 | 12月7日 | 平日 | \n",
    " | 2月7日 | 平日 | 4月7日 | 平日 | 6月7日 | 平日 | 8月7日 | 平日 | 10月8日 | 休日在 | 12月8日 | 平日 | \n",
    " | 2月8日 | 平日 | 4月8日 | 休日在 | 6月8日 | 平日 | 8月8日 | 平日 | 10月9日 | 平日 | 12月9日 | 休日在 | \n",
    " | 2月9日 | 平日 | 4月9日 | 休日在 | 6月9日 | 平日 | 8月9日 | 平日 | 10月10日 | 休日在 | 12月10日 | 休日外 | \n",
    " | 2月10日 | 平日 | 4月10日 | 平日 | 6月10日 | 休日在 | 8月10日 | 平日 | 10月11日 | 平日 | 12月11日 | 平日 | \n",
    " | 2月11日 | 休日在 | 4月11日 | 平日 | 6月11日 | 休日外 | 8月11日 | 平日 | 10月12日 | 平日 | 12月12日 | 平日 | \n",
    " | 2月12日 | 休日在 | 4月12日 | 平日 | 6月12日 | 平日 | 8月12日 | 休日在 | 10月13日 | 平日 | 12月13日 | 平日 | \n",
    " | 2月13日 | 平日 | 4月13日 | 平日 | 6月13日 | 平日 | 8月13日 | 休日在 | 10月14日 | 休日在 | 12月14日 | 平日 | \n",
    " | 2月14日 | 平日 | 4月14日 | 平日 | 6月14日 | 平日 | 8月14日 | 平日 | 10月15日 | 休日外 | 12月15日 | 平日 | \n",
    " | 2月15日 | 平日 | 4月15日 | 休日在 | 6月15日 | 平日 | 8月15日 | 平日 | 10月16日 | 平日 | 12月16日 | 休日在 | \n",
    " | 2月16日 | 平日 | 4月16日 | 休日外 | 6月16日 | 平日 | 8月16日 | 平日 | 10月17日 | 平日 | 12月17日 | 休日在 | \n",
    " | 2月17日 | 平日 | 4月17日 | 平日 | 6月17日 | 休日在 | 8月17日 | 平日 | 10月18日 | 平日 | 12月18日 | 平日 | \n",
    " | 2月18日 | 休日在 | 4月18日 | 平日 | 6月18日 | 休日在 | 8月18日 | 平日 | 10月19日 | 平日 | 12月19日 | 平日 | \n",
    " | 2月19日 | 休日外 | 4月19日 | 平日 | 6月19日 | 平日 | 8月19日 | 休日在 | 10月20日 | 平日 | 12月20日 | 平日 | \n",
    " | 2月20日 | 平日 | 4月20日 | 平日 | 6月20日 | 平日 | 8月20日 | 休日外 | 10月21日 | 休日在 | 12月21日 | 平日 | \n",
    " | 2月21日 | 平日 | 4月21日 | 平日 | 6月21日 | 平日 | 8月21日 | 平日 | 10月22日 | 休日在 | 12月22日 | 平日 | \n",
    " | 2月22日 | 平日 | 4月22日 | 休日在 | 6月22日 | 平日 | 8月22日 | 平日 | 10月23日 | 平日 | 12月23日 | 休日在 | \n",
    " | 2月23日 | 平日 | 4月23日 | 休日在 | 6月23日 | 平日 | 8月23日 | 平日 | 10月24日 | 平日 | 12月24日 | 休日外 | \n",
    " | 2月24日 | 平日 | 4月24日 | 平日 | 6月24日 | 休日在 | 8月24日 | 平日 | 10月25日 | 平日 | 12月25日 | 平日 | \n",
    " | 2月25日 | 休日在 | 4月25日 | 平日 | 6月25日 | 休日外 | 8月25日 | 平日 | 10月26日 | 平日 | 12月26日 | 平日 | \n",
    " | 2月26日 | 休日在 | 4月26日 | 平日 | 6月26日 | 平日 | 8月26日 | 休日在 | 10月27日 | 平日 | 12月27日 | 平日 | \n",
    " | 2月27日 | 平日 | 4月27日 | 平日 | 6月27日 | 平日 | 8月27日 | 休日在 | 10月28日 | 休日在 | 12月28日 | 平日 | \n",
    " | 2月28日 | 平日 | 4月28日 | 平日 | 6月28日 | 平日 | 8月28日 | 平日 | 10月29日 | 休日外 | 12月29日 | 平日 | \n",
    " |         |      | 4月29日 | 休日在 | 6月29日 | 平日 | 8月29日 | 平日 | 10月30日 | 平日 | 12月30日 | 休日外 | \n",
    " |         |      | 4月30日 | 休日外 | 6月30日 | 平日 | 8月30日 | 平日 | 10月31日 | 平日 | 12月31日 | 休日在 | \n",
    " |         |      |         |        |         |      | 8月31日 | 平日 |          |      |          |        | \n"
   ]
  },
  {
   "cell_type": "code",
   "execution_count": 11,
   "metadata": {
    "collapsed": true
   },
   "outputs": [],
   "source": [
    "def get_E_E_VL(E_E_VL_p, E_E_VL_p_plus1, n_p):\n",
    "    if 1 <= n_p < 2:\n",
    "        return E_E_VL_p * (2 - n_p) / (2 - 1) + E_E_VL_p_plus1  * (n_p - 1) / (2 - 1)\n",
    "    if n_p == 2 <= n_p < 3:\n",
    "        return E_E_VL_p * (3 - n_p) / (3 - 2) + E_E_VL_p_plus1  * (n_p - 2) / (3 - 2)\n",
    "    if n_p == 3 <= n_p < 4:\n",
    "        return E_E_VL_p * (4 - n_p) / (4 - 3) + E_E_VL_p_plus1  * (n_p - 3) / (4 - 3)"
   ]
  },
  {
   "cell_type": "markdown",
   "metadata": {},
   "source": [
    "### Example"
   ]
  },
  {
   "cell_type": "markdown",
   "metadata": {},
   "source": [
    "$n_p$ = 1.4 (persons)  \n",
    "$E_{E,VL,p}$ = 0.00670 (kWh/h)  \n",
    "$E_{E,VL,p+1}$ = 0.01339 (kWh/h)"
   ]
  },
  {
   "cell_type": "code",
   "execution_count": 12,
   "metadata": {},
   "outputs": [
    {
     "data": {
      "text/plain": [
       "0.009375999999999999"
      ]
     },
     "execution_count": 12,
     "metadata": {},
     "output_type": "execute_result"
    }
   ],
   "source": [
    "get_E_E_VL(0.00670, 0.01339, 1.4)"
   ]
  },
  {
   "cell_type": "markdown",
   "metadata": {},
   "source": [
    "# 計算方法（統合）/ Integrated Calculation"
   ]
  },
  {
   "cell_type": "code",
   "execution_count": 13,
   "metadata": {
    "collapsed": true
   },
   "outputs": [],
   "source": [
    "def result(N = 0, n_p = 0, A_A = 0, e = 0, P = 0, V_d = 0, get_Type = \"\", get_Saving = \"\", E_E_VL_p = 0, E_E_VL_p_plus1 = 0):\n",
    "    \n",
    "    # 局所換気設備の消費電力量\n",
    "    E_E_VL = get_E_E_VL(E_E_VL_p, E_E_VL_p_plus1, n_p)\n",
    "    print('局所換気の消費電力量' + str(E_E_VL))\n",
    "    \n",
    "    # 全般換気設備の消費電力量\n",
    "    V_R = get_V_R(A_A, N, e)\n",
    "    f_SFP = get_f_SFP(P, V_d, get_Type, get_Saving)\n",
    "    E_E_VG = get_E_E_VG(f_SFP, V_R)\n",
    "    print('全般換気設備の消費電力量' + str(E_E_VG))\n",
    "    \n",
    "    # 機械換気設備の消費電力量\n",
    "    E_E_V = get_E_E_V(E_E_VG, E_E_VL)\n",
    "    print('機械換気設備の消費電力量' + str(E_E_V))\n",
    "    "
   ]
  },
  {
   "cell_type": "markdown",
   "metadata": {},
   "source": [
    "### Example"
   ]
  },
  {
   "cell_type": "markdown",
   "metadata": {},
   "source": [
    "$ N $ = 0.5 (1/h)  \n",
    "$ n_p $ = 1.4 (persons)  \n",
    "$ A_A $ =  120 (m<sup>2</sup>)  \n",
    "$ e $ = 1.0  \n",
    "$ P $ = 50.0 (W)  \n",
    "$ V_d $ = 270.0 (m<sup>3</sup>/h)  \n",
    "$ E_{E, VL, p} $ = 0.00013 (kWh/h)  \n",
    "$ E_{E, VL, p+1} $ = 0.00025 (kWh/h)"
   ]
  },
  {
   "cell_type": "code",
   "execution_count": 14,
   "metadata": {},
   "outputs": [
    {
     "name": "stdout",
     "output_type": "stream",
     "text": [
      "局所換気の消費電力量0.000178\n",
      "全般換気設備の消費電力量0.030096\n",
      "機械換気設備の消費電力量0.030274000000000002\n"
     ]
    }
   ],
   "source": [
    "result(N= 0.5, n_p = 1.4, A_A = 120, e = 1.0, P = 50.0, V_d = 270.0, E_E_VL_p = 0.00013, E_E_VL_p_plus1 = 0.00025)"
   ]
  }
 ],
 "metadata": {
  "kernelspec": {
   "display_name": "Python 3",
   "language": "python",
   "name": "python3"
  },
  "language_info": {
   "codemirror_mode": {
    "name": "ipython",
    "version": 3
   },
   "file_extension": ".py",
   "mimetype": "text/x-python",
   "name": "python",
   "nbconvert_exporter": "python",
   "pygments_lexer": "ipython3",
   "version": "3.6.0"
  }
 },
 "nbformat": 4,
 "nbformat_minor": 2
}
