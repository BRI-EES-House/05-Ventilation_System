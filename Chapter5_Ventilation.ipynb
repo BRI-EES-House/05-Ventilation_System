{
 "cells": [
  {
   "cell_type": "code",
   "execution_count": 1,
   "metadata": {
    "collapsed": true
   },
   "outputs": [],
   "source": [
    "import math\n",
    "from enum import Enum"
   ]
  },
  {
   "cell_type": "markdown",
   "metadata": {},
   "source": [
    "# Chapter V Ventilation System / 換気設備の計算方法"
   ]
  },
  {
   "cell_type": "markdown",
   "metadata": {},
   "source": [
    "## Introduction"
   ]
  },
  {
   "cell_type": "markdown",
   "metadata": {},
   "source": [
    "This calculation depends on the specification of \"Chapter V Ventilation System\" in BRI."
   ]
  },
  {
   "cell_type": "markdown",
   "metadata": {},
   "source": [
    "## Electric Power of Mechanical Ventilation System / 機械換気設備の消費電力量"
   ]
  },
  {
   "cell_type": "markdown",
   "metadata": {},
   "source": [
    "Horly electric power of mechanical ventilation system $ E_{E,V} $ is calculated by the equation (1):\n",
    "\n",
    "$$\n",
    "\\begin{equation}\n",
    "    \\displaystyle E_{E,V} = E_{E,VG} + E_{E,VL} \\tag{1}  \n",
    "\\end{equation}\n",
    "$$\n",
    "\n",
    "Where  \n",
    "$ E_{E,V} $ is the horly electric power of mechanical ventilation system / 1時間当たりの機械換気設備の消費電力量 (kWh/h);  \n",
    "$ E_{E,VG} $ is the hourly electric power of general mecanical ventilation system / 1時間当たりの全般換気設備の消費電力量 (kWh/h);    \n",
    "$ E_{E,VL} $ is the hourly electric power of local mechanical ventilation system / 1時間当たりの局所換気設備の消費電力量 (kWh/h)."
   ]
  },
  {
   "cell_type": "code",
   "execution_count": 2,
   "metadata": {
    "collapsed": true
   },
   "outputs": [],
   "source": [
    "def get_E_E_V(E_E_VG, E_E_VL):\n",
    "    return E_E_VG + E_E_VL"
   ]
  },
  {
   "cell_type": "markdown",
   "metadata": {},
   "source": [
    "### Example"
   ]
  },
  {
   "cell_type": "markdown",
   "metadata": {},
   "source": [
    "$ E_{E,VG} $ = 0.3 (kWh/h)  \n",
    "$ E_{E,VL} $ = 0.1 (kWh/h)"
   ]
  },
  {
   "cell_type": "code",
   "execution_count": 3,
   "metadata": {
    "collapsed": false
   },
   "outputs": [
    {
     "data": {
      "text/plain": [
       "0.4"
      ]
     },
     "execution_count": 3,
     "metadata": {},
     "output_type": "execute_result"
    }
   ],
   "source": [
    "get_E_E_V(0.3, 0.1)"
   ]
  },
  {
   "cell_type": "markdown",
   "metadata": {},
   "source": [
    "## Electric Power of General Mechanical Ventilation System / 全般換気設備の消費電力量"
   ]
  },
  {
   "cell_type": "markdown",
   "metadata": {},
   "source": [
    "The hourly electric power of general mechanical ventilation system $ E_{E,VG} $ is calculated by the equation (2):  \n",
    "\n",
    "$$\n",
    "\\begin{equation}\n",
    "    E_{E,VG} = f_{SFP} \\times V_R \\times 10^{-3} \\tag{2}\n",
    "\\end{equation}\n",
    "$$\n",
    "\n",
    "Where  \n",
    "$ f_{SFP} $ is the SFP ( specific Fan Power ) of general mechanical ventilation system / 全般換気設備の比消費電力 (W/(m<sup>3</sup>/h));  \n",
    "$ V_R $ is the referenced ventilation amount of general mechanical ventilation system / 全般換気設備の参照機械換気量 (m<sup>3</sup>/h)."
   ]
  },
  {
   "cell_type": "code",
   "execution_count": 4,
   "metadata": {
    "collapsed": true
   },
   "outputs": [],
   "source": [
    "def get_E_E_VG(f_SFP, V_R):\n",
    "    return f_SFP * V_R * 10**(-3)"
   ]
  },
  {
   "cell_type": "markdown",
   "metadata": {},
   "source": [
    "### Example"
   ]
  },
  {
   "cell_type": "markdown",
   "metadata": {},
   "source": [
    "$ f_{SFP} $ = 0.3 (W/(m<sup>3</sup>/h))  \n",
    "$ V_R $ = 3.5 (m<sup>3</sup>/h)"
   ]
  },
  {
   "cell_type": "code",
   "execution_count": 5,
   "metadata": {
    "collapsed": false
   },
   "outputs": [
    {
     "data": {
      "text/plain": [
       "0.0010500000000000002"
      ]
     },
     "execution_count": 5,
     "metadata": {},
     "output_type": "execute_result"
    }
   ],
   "source": [
    "get_E_E_VG(0.3, 3.5)"
   ]
  },
  {
   "cell_type": "markdown",
   "metadata": {},
   "source": [
    "## Referenced Amount of Mechanical Ventilation System / 全般換気設備の参照機械換気量"
   ]
  },
  {
   "cell_type": "markdown",
   "metadata": {},
   "source": [
    "The referenced amount of mechanical ventilation system $V_R$ is calculated by equation(3):\n",
    "\n",
    "$$\n",
    "\\begin{equation}\n",
    "    V_R = A_A \\times H_R \\times N \\times a \\div e \\tag{3}\n",
    "\\end{equation}\n",
    "$$\n",
    "\n",
    "Where  \n",
    "$ A_A $ is the floor area / 床面積の合計 (m<sup>2</sup>);  \n",
    "$ H_R $ is the referenced ceiling height / 参照天井高さ (m)(=2.4m);  \n",
    "$ N $ is the ventilation rate / 換気回数 (1/h);  \n",
    "$ a $ is the allowance ratio of the ventilation amount of the general mechanical ventilation system / 全般換気設備の換気量の余裕率 (=1.1)  \n",
    "$ e $ is the effective ventilation ratio / 有効換気量率."
   ]
  },
  {
   "cell_type": "code",
   "execution_count": 6,
   "metadata": {
    "collapsed": true
   },
   "outputs": [],
   "source": [
    "def get_V_R(A_A, N, e):\n",
    "    H_R = 2.4 # 参照天井高さ(m)\n",
    "    a = 1.1 # 全般換気設備の換気量の余裕率\n",
    "    return A_A * H_R * N * a / e"
   ]
  },
  {
   "cell_type": "markdown",
   "metadata": {},
   "source": [
    "### Example"
   ]
  },
  {
   "cell_type": "markdown",
   "metadata": {},
   "source": [
    "$A_A$ = 10.0 (m<sup>2</sup>)  \n",
    "$N$ = 5.0 (1/h)  \n",
    "$e$ = 1.0"
   ]
  },
  {
   "cell_type": "code",
   "execution_count": 7,
   "metadata": {
    "collapsed": false
   },
   "outputs": [
    {
     "data": {
      "text/plain": [
       "132.0"
      ]
     },
     "execution_count": 7,
     "metadata": {},
     "output_type": "execute_result"
    }
   ],
   "source": [
    "get_V_R(10.0, 5.0, 1.0)"
   ]
  },
  {
   "cell_type": "markdown",
   "metadata": {},
   "source": [
    "## Specific Fan Power / 比消費電力"
   ]
  },
  {
   "cell_type": "markdown",
   "metadata": {},
   "source": [
    "The specific fan power is calculated based on the following (a) and (b).  "
   ]
  },
  {
   "cell_type": "markdown",
   "metadata": {},
   "source": [
    "### (a) Calculation based on Specification / 仕様により計算する方法"
   ]
  },
  {
   "cell_type": "markdown",
   "metadata": {},
   "source": [
    "#### (a-1) Ventilation System with Duct / ダクト式換気設備の場合"
   ]
  },
  {
   "cell_type": "markdown",
   "metadata": {},
   "source": [
    "$$ f_{SFP} = f_{SFP,basic} \\times r_{ES} $$\n",
    "\n",
    "$ f_{SFP,basic} $ is the basic SFP, and defined on the table below according to the type of the general mechanical ventilation system.\n",
    "\n",
    "| Type of General Ventilation System | Basic SFP |\n",
    "| ------------------ | -------------------- |\n",
    "| Balanced ventilation system with duct and heat exchanger <br> ダクト式第一種換気設備(熱交換型換気設備) | 0.70 |\n",
    "| Balanced ventilation system with duct <br> ダクト式第一種換気設備 | 0.50 |\n",
    "| Supply only or exhaust only ventilation system with duct <br> ダクト式第二種換気設備又はダクト式第三種換気設備 | 0.40 |\n",
    "\n",
    "$ r_{ES} $ is the ratio of the effect on the energy saving technique(s) and defined on the table below according to the type of the general mechanical ventilation, the inside diameter of the duct and the type of the moter.\n",
    "\n",
    "| Type of Ventilation System | Inside Diameter of Duct | Type of Moter | Ratio |\n",
    "| -------------- | ------------ | ------------ | ------ |\n",
    "| Balanced ventilation system with duct <br> ダクト式第一種換気設備 | Use the duct with the inside diameter of more than 75mm <br> 内径75mm以上のダクトのみ使用 | DC <br> 直流 | 0.455 |\n",
    "| Balanced ventilation system with duct <br> ダクト式第一種換気設備 | Use the duct with the inside diameter of more than 75mm <br> 内径75mm以上のダクトのみ使用 | AC or Combined Use of AC and DC <br> 交流、又は直流と交流の併用 | 0.700 |\n",
    "| Balanced ventilation system with duct <br> ダクト式第一種換気設備 | Others <br> 上記以外 | DC or AC <br> 直流あるいは交流 | 1.000 |\n",
    "| Supply only or exhaust only ventilation system with duct <br> ダクト式第二種換気設備又はダクト式第三種換気設備 | Use the duct with the inside diameter of more than 75mm <br> 内径75mm以上のダクトのみ使用 | DC <br> 直流 | 0.360 |\n",
    "| Supply only or exhaust only ventilation system with duct <br> ダクト式第二種換気設備又はダクト式第三種換気設備 | Use the duct with the inside diameter of more than 75mm <br> 内径75mm以上のダクトのみ使用 | AC or Combined Use of AC and DC <br> 交流、又は直流と交流の併用 | 0.600 |\n",
    "| Supply only or exhaust only ventilation system with duct <br> ダクト式第二種換気設備又はダクト式第三種換気設備 | Others <br> 上記以外 | DC or AC <br> 直流あるいは交流 | 1.000 |"
   ]
  },
  {
   "cell_type": "markdown",
   "metadata": {},
   "source": [
    "#### (a-2) Wall-mounted Ventilation Unit / 壁付け式換気設備の場合"
   ]
  },
  {
   "cell_type": "markdown",
   "metadata": {},
   "source": [
    "$ f_{SFP} $ is defined in the table below.\n",
    "\n",
    "| Type of Ventilation | SFP |\n",
    "| ------------------ | ---------- |\n",
    "| Balanced ventilation system with duct and heat exchanger <br> ダクト式第一種換気設備(熱交換型換気設備) | 0.70 |\n",
    "| Balanced ventilation system with duct <br> ダクト式第一種換気設備 | 0.40 |\n",
    "| Supply onlyventilation system with duct <br> ダクト式第二種換気設備 | 0.30 |\n",
    "| Exhaust only ventilation system with duct <br> ダクト式第三種換気設備 | 0.30 |"
   ]
  },
  {
   "cell_type": "markdown",
   "metadata": {},
   "source": [
    "### (b) Calculation based on Power and Designed Ventilation Amount / 消費電力と設計風量により求める方法"
   ]
  },
  {
   "cell_type": "markdown",
   "metadata": {},
   "source": [
    "$ f_{SFP} $ is calculated by the equation (4), and the calculated value shall be round up to the second decimal place.  \n",
    "$$\n",
    "\\begin{equation}\n",
    "    f_{SFP} = P \\div V_d \\tag{4}\n",
    "\\end{equation}\n",
    "$$\n",
    "\n",
    "Where  \n",
    "$ P $ is the power of the mechanical general ventilation system (W);  \n",
    "$ V_d $ is the designed ventilation amount of the mechanical general ventilation system (m<sup>3</sup>/h)."
   ]
  },
  {
   "cell_type": "code",
   "execution_count": 8,
   "metadata": {
    "collapsed": true
   },
   "outputs": [],
   "source": [
    "class Type(Enum):\n",
    "    duct1_EXCH    =0.70 # ダクト式第一種換気設備（熱交換型換気設備）\n",
    "    duct1         =0.50 # ダクト式第一種換気設備\n",
    "    duct2or3      =0.40 # ダクト式第二種換気設備又はダクト式第三種換気設備\n",
    "    wall1_EXCH    =0.70 # 壁付け式第一種換気設備（熱交換型換気設備）\n",
    "    wall1         =0.40 # 壁付け式第一種換気設備\n",
    "    wall2         =0.30 # 壁付け式第二種換気設備\n",
    "    wall3         =0.30 # 壁付け式第三種換気設備\n",
    "    \n",
    "class Saving(Enum):\n",
    "    duct1_over75mm_DC    = 0.455 # ダクト式第一種換気設備、内径75mm以上のダクトのみ使用、直流\n",
    "    duct1_over75mm_AC    = 0.700 # ダクト式第一種換気設備、内径75mm以上のダクトのみ使用、交流、又は直流と交流の併用\n",
    "    duct1_other          = 1.000 # ダクト式第一種換気設備、上記以外\n",
    "    duct2or3_over75mm_DC = 0.360 # ダクト式第二種又は第三種換気設備、内径75mm以上のダクトのみ使用、直流\n",
    "    duct2or3_over75mm_AC = 0.600 # ダクト式第二種又は第三種換気設備、内径75mm以上のダクトのみ使用、交流、又は直流と交流の併用\n",
    "    duct2or3_other       = 1.000 # ダクト式第二種又は第三種換気設備、上記以外\n",
    "\n",
    "def get_f_SFP(P = 0, V_d = 0, get_Type = \"\", get_Saving = \"\"):\n",
    "    # 式(4)により算出する場合\n",
    "    if get_Type == \"\" and get_Saving == \"\":\n",
    "        return math.ceil(P / V_d * 100) / 100\n",
    "    \n",
    "    # 付録Aに規定する値を用いる場合\n",
    "    if P == 0 and V_d == 0:\n",
    "        Value1 = Type[get_Type].value\n",
    "        \n",
    "        if \"duct1\" in get_Type and \"duct1\" in get_Saving:\n",
    "            Value2 = Saving[get_Saving].value\n",
    "        elif \"duct2or3\" in get_Type and \"duct2or3\" in get_Saving:\n",
    "            Value2 = Saving[get_Saving].value\n",
    "        else:\n",
    "            Value2 = 1\n",
    "        \n",
    "        return Value1 * Value2\n",
    "    \n",
    "    else:\n",
    "        return 1"
   ]
  },
  {
   "cell_type": "markdown",
   "metadata": {},
   "source": [
    "### Example"
   ]
  },
  {
   "cell_type": "markdown",
   "metadata": {},
   "source": [
    "$P$ = 50.0 (W)  \n",
    "$V_d$ = 270.0 (m<sup>3</sup>/h)  "
   ]
  },
  {
   "cell_type": "code",
   "execution_count": 9,
   "metadata": {
    "collapsed": false
   },
   "outputs": [
    {
     "data": {
      "text/plain": [
       "0.19"
      ]
     },
     "execution_count": 9,
     "metadata": {},
     "output_type": "execute_result"
    }
   ],
   "source": [
    "get_f_SFP(50.0, 270.0, \"\", \"\")"
   ]
  },
  {
   "cell_type": "markdown",
   "metadata": {},
   "source": [
    "### Example"
   ]
  },
  {
   "cell_type": "markdown",
   "metadata": {},
   "source": [
    "Type = The supply only ventilation system with duct  \n",
    "Inside Diameter of Duct = Use the duct with the inside diameter of more than 75mm  \n",
    "Type of Motor = DC"
   ]
  },
  {
   "cell_type": "code",
   "execution_count": 10,
   "metadata": {
    "collapsed": false
   },
   "outputs": [
    {
     "data": {
      "text/plain": [
       "0.144"
      ]
     },
     "execution_count": 10,
     "metadata": {},
     "output_type": "execute_result"
    }
   ],
   "source": [
    "get_f_SFP(0,0,\"duct2or3\",\"duct2or3_over75mm_DC\")"
   ]
  },
  {
   "cell_type": "markdown",
   "metadata": {},
   "source": [

    "## Electric Power of Local Mechanical Ventilation System / 局所換気設備の消費電力量"

   ]
  },
  {
   "cell_type": "markdown",
   "metadata": {},
   "source": [
    "The electric power of local mechanical ventilation system $ E_{E,VL} $ is calculated by the equation (5):  \n",
    "$ E_{E,VL} = \\left\\{\n",
    "\\begin{array}{ll}\n",
    "E_{E,VL,p} \\mid _{p=1} \\times \\frac{2 - n_p}{2 - 1} + E_{E,VL,p} \\mid _{p=2} \\times \\frac{n_p - 1}{2 - 1} & (1 \\leq n_p < 2 )\\\\\n",
    "E_{E,VL,p} \\mid _{p=2} \\times \\frac{3 - n_p}{3 - 2} + E_{E,VL,p} \\mid _{p=3} \\times \\frac{n_p - 2}{3 - 2} & (2 \\leq n_p < 3)\\\\ \\tag{5}\n",
    "E_{E,VL,p} \\mid _{p=3} \\times \\frac{4 - n_p}{4 - 3} + E_{E,VL,p} \\mid _{p=3} \\times \\frac{n_p - 3}{4 - 3} & (3 \\leq n_p < 4)\n",
    "\\end{array}\n",
    "\\right.$  \n",
    "\n",
    "Where  \n",
    "$ E_{E,VL} $ is the hourly electric power of the local ventilation system / 1時間当たりの局所換気設備の消費電力量 (kWh/h);  \n",
    "$ E_{E,VL,p} $ is the houlr electric power of the local ventilation system consumed by the p person(s) / 1時間当たりの居住人数がp人における局所換気設備の消費電力量 (kWh/h);  \n",
    "$ n_p $ is the vertical number of the ocupant(s) / 仮想居住人数."
   ]
  },
  {
   "cell_type": "markdown",
   "metadata": {},
   "source": [
    "$ E_{E,VL,p} $ is defined on the table below acording to the number of the ocupant(s), weekday/holiday and in/not home.  \n",
    "<br>\n",
    "<div style=\"text-align: center;\">\n",
    "    **table.  the hourly electric power of the local ventilation system(Wh/h)**\n",
    "</div>  \n",
    "\n",
    "| time <br> (hr) | 1 person<br>weekday　　 | 1 person<br>holiday, not home | 1 person<br>holiday, in home | 2 persons<br>weekday　　 | 2 person<br>holiday, not home | 2 person<br>holiday, in home | 3 person<br>weekday　　 | 3 person<br>holiday, not home | 3 person<br>holiday, in home | 4 person<br>weekday　　 | 4 person<br>holiday, not home | 4 person<br>holiday, in home |\n",
    "| --- | --- | --- | --- | --- | --- | --- | --- | --- | --- | --- | --- | --- |\n",
    "| 0:00 | 0.13 | 0.13 | 0.13 | 0.25 | 0.25 | 0.25 | 0.38 | 0.38 | 0.38 | 0.50 | 0.50 | 0.50 |\n",
    "| 1:00 | 0.13 | 0.13 | 0.13 | 0.25 | 0.25 | 0.25 | 0.38 | 0.38 | 0.38 | 0.50 | 0.50 | 0.50 |\n",
    "| 2:00 | 0.13 | 0.13 | 0.13 | 0.25 | 0.25 | 0.25 | 0.38 | 0.38 | 0.38 | 0.50 | 0.50 | 0.50 |\n",
    "| 3:00 | 0.13 | 0.13 | 0.13 | 0.25 | 0.25 | 0.25 | 0.38 | 0.38 | 0.38 | 0.50 | 0.50 | 0.50 |\n",
    "| 4:00 | 0.13 | 0.13 | 0.13 | 0.25 | 0.25 | 0.25 | 0.38 | 0.38 | 0.38 | 0.50 | 0.50 | 0.50 |\n",
    "| 5:00 | 0.13 | 0.13 | 0.13 | 0.25 | 0.25 | 0.25 | 0.38 | 0.38 | 0.38 | 0.50 | 0.50 | 0.50 |\n",
    "| 6:00 | 3.38 | 0.33 | 0.13 | 6.75 | 0.67 | 0.25 | 10.13 | 1.00 | 0.38 | 13.51 | 1.33 | 0.50 |\n",
    "| 7:00 | 0.54 | 0.33 | 0.54 | 1.08 | 0.67 | 1.08 | 1.63 | 1.00 | 1.63 | 2.17 | 1.33 | 2.17 |\n",
    "| 8:00 | 0.54 | 7.05 | 3.79 | 1.08 | 14.09 | 7.59 | 1.63 | 21.14 | 11.38 | 2.17 | 28.18 | 15.18 |\n",
    "| 9:00 | 0.13 | 0.13 | 0.33 | 0.25 | 0.25 | 0.67 | 0.38 | 0.38 | 1.00 | 0.50 | 0.50 | 1.33 |\n",
    "| 10:00 | 0.33 | 0.13 | 0.54 | 0.67 | 0.25 | 1.08 | 1.00 | 0.38 | 1.63 | 1.33 | 0.50 | 2.17 |\n",
    "| 11:00 | 0.13 | 0.13 | 0.33 | 0.25 | 0.25 | 0.67 | 0.38 | 0.38 | 1.00 | 0.50 | 0.50 | 1.33 |\n",
    "| 12:00 | 3.38 | 0.13 | 3.38 | 6.75 | 0.25 | 6.75 | 10.13 | 0.38 | 10.13 | 13.51 | 0.50 | 13.51 |\n",
    "| 13:00 | 0.33 | 0.13 | 0.33 | 0.67 | 0.25 | 0.67 | 1.00 | 0.38 | 1.00 | 1.33 | 0.50 | 1.33 |\n",
    "| 14:00 | 0.13 | 0.13 | 0.13 | 0.25 | 0.25 | 0.25 | 0.38 | 0.38 | 0.38 | 0.50 | 0.50 | 0.50 |\n",
    "| 15:00 | 0.13 | 0.13 | 0.13 | 0.25 | 0.25 | 0.25 | 0.38 | 0.38 | 0.38 | 0.50 | 0.50 | 0.50 |\n",
    "| 16:00 | 0.33 | 0.13 | 0.54 | 0.67 | 0.25 | 1.08 | 1.00 | 0.38 | 1.63 | 1.33 | 0.50 | 2.17 |\n",
    "| 17:00 | 0.33 | 0.13 | 6.42 | 0.67 | 0.25 | 12.84 | 1.00 | 0.38 | 19.26 | 1.33 | 0.50 | 25.68 |\n",
    "| 18:00 | 6.42 | 0.13 | 6.42 | 12.84 | 0.25 | 12.84 | 19.26 | 0.38 | 19.26 | 25.68 | 0.50 | 25.68 |\n",
    "| 19:00 | 6.42 | 0.13 | 0.13 | 12.84 | 0.25 | 0.25 | 19.26 | 0.38 | 0.38 | 25.68 | 0.50 | 0.50 |\n",
    "| 20:00 | 0.33 | 0.54 | 0.33 | 0.67 | 1.08 | 0.67 | 1.00 | 1.63 | 1.00 | 1.33 | 2.17 | 1.33 | \n",
    "| 21:00 | 0.33 | 0.33 | 6.28 | 0.67 | 0.67 | 12.56 | 1.00 | 1.00 | 18.84 | 1.33 | 1.33 | 25.12 |\n",
    "| 22:00 | 6.28 | 3.52 | 6.49 | 12.56 | 7.03 | 12.98 | 18.84 | 10.55 | 19.47 | 25.12 | 14.06 | 25.95 |\n",
    "| 23:00 | 6.70 | 6.28 | 3.31 | 13.39 | 12.56 | 6.61 | 20.09 | 18.84 | 9.92 | 26.79 | 25.12 | 13.23 |"
   ]
  },
  {
   "cell_type": "markdown",
   "metadata": {},
   "source": [
    "The daily schedule of Ventilation is defined on the table below at chpter 11 section 3.\n",
    "\n",
    "| 日付 | 負荷条件 | 日付 | 負荷条件 | 日付 | 負荷条件 | 日付 | 負荷条件 | 日付 | 負荷条件 | 日付 | 負荷条件 | \n",
    "  | --  | -------  | ---  | -------- | ---- | -------- | ---- | -------- |\n",
    " | 1月1日 | 休日在 | 3月1日 | 平日 | 5月1日 | 平日 | 7月1日 | 休日在 | 9月1日 | 平日 | 11月1日 | 平日 | \n",
    " | 1月2日 | 平日 | 3月2日 | 平日 | 5月2日 | 平日 | 7月2日 | 休日在 | 9月2日 | 休日在 | 11月2日 | 平日 | \n",
    " | 1月3日 | 平日 | 3月3日 | 平日 | 5月3日 | 休日外 | 7月3日 | 平日 | 9月3日 | 休日外 | 11月3日 | 休日在 | \n",
    " | 1月4日 | 平日 | 3月4日 | 休日在 | 5月4日 | 休日外 | 7月4日 | 平日 | 9月4日 | 平日 | 11月4日 | 休日在 | \n",
    " | 1月5日 | 平日 | 3月5日 | 休日外 | 5月5日 | 休日在 | 7月5日 | 平日 | 9月5日 | 平日 | 11月5日 | 休日在 | \n",
    " | 1月6日 | 平日 | 3月6日 | 平日 | 5月6日 | 休日在 | 7月6日 | 平日 | 9月6日 | 平日 | 11月6日 | 平日 | \n",
    " | 1月7日 | 休日在 | 3月7日 | 平日 | 5月7日 | 休日在 | 7月7日 | 平日 | 9月7日 | 平日 | 11月7日 | 平日 | \n",
    " | 1月8日 | 休日外 | 3月8日 | 平日 | 5月8日 | 平日 | 7月8日 | 休日在 | 9月8日 | 平日 | 11月8日 | 平日 | \n",
    " | 1月9日 | 平日 | 3月9日 | 平日 | 5月9日 | 平日 | 7月9日 | 休日外 | 9月9日 | 休日在 | 11月9日 | 平日 | \n",
    " | 1月10日 | 平日 | 3月10日 | 平日 | 5月10日 | 平日 | 7月10日 | 平日 | 9月10日 | 休日在 | 11月10日 | 平日 | \n",
    " | 1月11日 | 平日 | 3月11日 | 休日在 | 5月11日 | 平日 | 7月11日 | 平日 | 9月11日 | 平日 | 11月11日 | 休日在 | \n",
    " | 1月12日 | 平日 | 3月12日 | 休日在 | 5月12日 | 平日 | 7月12日 | 平日 | 9月12日 | 平日 | 11月12日 | 休日外 | \n",
    " | 1月13日 | 平日 | 3月13日 | 平日 | 5月13日 | 休日在 | 7月13日 | 平日 | 9月13日 | 平日 | 11月13日 | 平日 | \n",
    " | 1月14日 | 休日在 | 3月14日 | 平日 | 5月14日 | 休日外 | 7月14日 | 平日 | 9月14日 | 平日 | 11月14日 | 平日 | \n",
    " | 1月15日 | 休日在 | 3月15日 | 平日 | 5月15日 | 平日 | 7月15日 | 休日在 | 9月15日 | 休日外 | 11月15日 | 平日 | \n",
    " | 1月16日 | 平日 | 3月16日 | 平日 | 5月16日 | 平日 | 7月16日 | 休日在 | 9月16日 | 休日在 | 11月16日 | 平日 | \n",
    " | 1月17日 | 平日 | 3月17日 | 平日 | 5月17日 | 平日 | 7月17日 | 平日 | 9月17日 | 休日外 | 11月17日 | 平日 | \n",
    " | 1月18日 | 平日 | 3月18日 | 休日在 | 5月18日 | 平日 | 7月18日 | 平日 | 9月18日 | 平日 | 11月18日 | 休日在 | \n",
    " | 1月19日 | 平日 | 3月19日 | 休日外 | 5月19日 | 平日 | 7月19日 | 平日 | 9月19日 | 平日 | 11月19日 | 休日在 | \n",
    " | 1月20日 | 平日 | 3月20日 | 平日 | 5月20日 | 休日在 | 7月20日 | 休日在 | 9月20日 | 平日 | 11月20日 | 平日 | \n",
    " | 1月21日 | 休日在 | 3月21日 | 休日在 | 5月21日 | 休日在 | 7月21日 | 平日 | 9月21日 | 平日 | 11月21日 | 平日 | \n",
    " | 1月22日 | 休日外 | 3月22日 | 平日 | 5月22日 | 平日 | 7月22日 | 休日在 | 9月22日 | 平日 | 11月22日 | 平日 | \n",
    " | 1月23日 | 平日 | 3月23日 | 平日 | 5月23日 | 平日 | 7月23日 | 休日外 | 9月23日 | 休日在 | 11月23日 | 休日在 | \n",
    " | 1月24日 | 平日 | 3月24日 | 平日 | 5月24日 | 平日 | 7月24日 | 平日 | 9月24日 | 休日在 | 11月24日 | 平日 | \n",
    " | 1月25日 | 平日 | 3月25日 | 休日在 | 5月25日 | 平日 | 7月25日 | 平日 | 9月25日 | 平日 | 11月25日 | 休日在 | \n",
    " | 1月26日 | 平日 | 3月26日 | 休日在 | 5月26日 | 平日 | 7月26日 | 平日 | 9月26日 | 平日 | 11月26日 | 休日外 | \n",
    " | 1月27日 | 平日 | 3月27日 | 平日 | 5月27日 | 休日在 | 7月27日 | 平日 | 9月27日 | 平日 | 11月27日 | 平日 | \n",
    " | 1月28日 | 休日在 | 3月28日 | 平日 | 5月28日 | 休日外 | 7月28日 | 平日 | 9月28日 | 平日 | 11月28日 | 平日 | \n",
    " | 1月29日 | 休日在 | 3月29日 | 平日 | 5月29日 | 平日 | 7月29日 | 休日在 | 9月29日 | 平日 | 11月29日 | 平日 | \n",
    " | 1月30日 | 平日 | 3月30日 | 平日 | 5月30日 | 平日 | 7月30日 | 休日在 | 9月30日 | 休日在 | 11月30日 | 平日 | \n",
    " | 1月31日 | 平日 | 3月31日 | 平日 | 5月31日 | 平日 | 7月31日 | 平日 | 10月1日 | 休日外 | 12月1日 | 平日 | \n",
    " | 2月1日 | 平日 | 4月1日 | 休日在 | 6月1日 | 平日 | 8月1日 | 平日 | 10月2日 | 平日 | 12月2日 | 休日在 | \n",
    " | 2月2日 | 平日 | 4月2日 | 休日外 | 6月2日 | 平日 | 8月2日 | 平日 | 10月3日 | 平日 | 12月3日 | 休日在 | \n",
    " | 2月3日 | 平日 | 4月3日 | 平日 | 6月3日 | 休日在 | 8月3日 | 平日 | 10月4日 | 平日 | 12月4日 | 平日 | \n",
    " | 2月4日 | 休日在 | 4月4日 | 平日 | 6月4日 | 休日在 | 8月4日 | 平日 | 10月5日 | 平日 | 12月5日 | 平日 | \n",
    " | 2月5日 | 休日外 | 4月5日 | 平日 | 6月5日 | 平日 | 8月5日 | 休日在 | 10月6日 | 平日 | 12月6日 | 平日 | \n",
    " | 2月6日 | 平日 | 4月6日 | 平日 | 6月6日 | 平日 | 8月6日 | 休日外 | 10月7日 | 休日在 | 12月7日 | 平日 | \n",
    " | 2月7日 | 平日 | 4月7日 | 平日 | 6月7日 | 平日 | 8月7日 | 平日 | 10月8日 | 休日在 | 12月8日 | 平日 | \n",
    " | 2月8日 | 平日 | 4月8日 | 休日在 | 6月8日 | 平日 | 8月8日 | 平日 | 10月9日 | 平日 | 12月9日 | 休日在 | \n",
    " | 2月9日 | 平日 | 4月9日 | 休日在 | 6月9日 | 平日 | 8月9日 | 平日 | 10月10日 | 休日在 | 12月10日 | 休日外 | \n",
    " | 2月10日 | 平日 | 4月10日 | 平日 | 6月10日 | 休日在 | 8月10日 | 平日 | 10月11日 | 平日 | 12月11日 | 平日 | \n",
    " | 2月11日 | 休日在 | 4月11日 | 平日 | 6月11日 | 休日外 | 8月11日 | 平日 | 10月12日 | 平日 | 12月12日 | 平日 | \n",
    " | 2月12日 | 休日在 | 4月12日 | 平日 | 6月12日 | 平日 | 8月12日 | 休日在 | 10月13日 | 平日 | 12月13日 | 平日 | \n",
    " | 2月13日 | 平日 | 4月13日 | 平日 | 6月13日 | 平日 | 8月13日 | 休日在 | 10月14日 | 休日在 | 12月14日 | 平日 | \n",
    " | 2月14日 | 平日 | 4月14日 | 平日 | 6月14日 | 平日 | 8月14日 | 平日 | 10月15日 | 休日外 | 12月15日 | 平日 | \n",
    " | 2月15日 | 平日 | 4月15日 | 休日在 | 6月15日 | 平日 | 8月15日 | 平日 | 10月16日 | 平日 | 12月16日 | 休日在 | \n",
    " | 2月16日 | 平日 | 4月16日 | 休日外 | 6月16日 | 平日 | 8月16日 | 平日 | 10月17日 | 平日 | 12月17日 | 休日在 | \n",
    " | 2月17日 | 平日 | 4月17日 | 平日 | 6月17日 | 休日在 | 8月17日 | 平日 | 10月18日 | 平日 | 12月18日 | 平日 | \n",
    " | 2月18日 | 休日在 | 4月18日 | 平日 | 6月18日 | 休日在 | 8月18日 | 平日 | 10月19日 | 平日 | 12月19日 | 平日 | \n",
    " | 2月19日 | 休日外 | 4月19日 | 平日 | 6月19日 | 平日 | 8月19日 | 休日在 | 10月20日 | 平日 | 12月20日 | 平日 | \n",
    " | 2月20日 | 平日 | 4月20日 | 平日 | 6月20日 | 平日 | 8月20日 | 休日外 | 10月21日 | 休日在 | 12月21日 | 平日 | \n",
    " | 2月21日 | 平日 | 4月21日 | 平日 | 6月21日 | 平日 | 8月21日 | 平日 | 10月22日 | 休日在 | 12月22日 | 平日 | \n",
    " | 2月22日 | 平日 | 4月22日 | 休日在 | 6月22日 | 平日 | 8月22日 | 平日 | 10月23日 | 平日 | 12月23日 | 休日在 | \n",
    " | 2月23日 | 平日 | 4月23日 | 休日在 | 6月23日 | 平日 | 8月23日 | 平日 | 10月24日 | 平日 | 12月24日 | 休日外 | \n",
    " | 2月24日 | 平日 | 4月24日 | 平日 | 6月24日 | 休日在 | 8月24日 | 平日 | 10月25日 | 平日 | 12月25日 | 平日 | \n",
    " | 2月25日 | 休日在 | 4月25日 | 平日 | 6月25日 | 休日外 | 8月25日 | 平日 | 10月26日 | 平日 | 12月26日 | 平日 | \n",
    " | 2月26日 | 休日在 | 4月26日 | 平日 | 6月26日 | 平日 | 8月26日 | 休日在 | 10月27日 | 平日 | 12月27日 | 平日 | \n",
    " | 2月27日 | 平日 | 4月27日 | 平日 | 6月27日 | 平日 | 8月27日 | 休日在 | 10月28日 | 休日在 | 12月28日 | 平日 | \n",
    " | 2月28日 | 平日 | 4月28日 | 平日 | 6月28日 | 平日 | 8月28日 | 平日 | 10月29日 | 休日外 | 12月29日 | 平日 | \n",
    " |         |      | 4月29日 | 休日在 | 6月29日 | 平日 | 8月29日 | 平日 | 10月30日 | 平日 | 12月30日 | 休日外 | \n",
    " |         |      | 4月30日 | 休日外 | 6月30日 | 平日 | 8月30日 | 平日 | 10月31日 | 平日 | 12月31日 | 休日在 | \n",
    " |         |      |         |        |         |      | 8月31日 | 平日 |          |      |          |        | \n"
   ]
  },
  {
   "cell_type": "code",
   "execution_count": 11,
   "metadata": {
    "collapsed": true
   },
   "outputs": [],
   "source": [
    "def get_E_E_VL(E_E_VL_p, E_E_VL_p_plus1, n_p):\n",
    "    if 1 <= n_p < 2:\n",
    "        return E_E_VL_p * (2 - n_p) / (2 - 1) + E_E_VL_p_plus1  * (n_p - 1) / (2 - 1)\n",
    "    if  2 <= n_p < 3:\n",
    "        return E_E_VL_p * (3 - n_p) / (3 - 2) + E_E_VL_p_plus1  * (n_p - 2) / (3 - 2)\n",
    "    if  3 <= n_p <= 4:\n",
    "        return E_E_VL_p * (4 - n_p) / (4 - 3) + E_E_VL_p_plus1  * (n_p - 3) / (4 - 3)"
   ]
  },
  {
   "cell_type": "markdown",
   "metadata": {},
   "source": [
    "### Example"
   ]
  },
  {
   "cell_type": "markdown",
   "metadata": {},
   "source": [
    "$n_p$ = 1.4 (persons)  \n",
    "$E_{E,VL,p}$ = 0.00670 (kWh/h)  \n",
    "$E_{E,VL,p+1}$ = 0.01339 (kWh/h)"
   ]
  },
  {
   "cell_type": "code",
   "execution_count": 12,

   "metadata": {},

   "outputs": [
    {
     "data": {
      "text/plain": [
       "0.009375999999999999"
      ]
     },
     "execution_count": 12,
     "metadata": {},
     "output_type": "execute_result"
    }
   ],
   "source": [
    "get_E_E_VL(0.00670, 0.01339, 1.4)"
   ]
  },
  {
   "cell_type": "markdown",
   "metadata": {},
   "source": [
    "## the houly electric power of the local ventilation system consumed by the p person(s) / 1時間当たりの居住人数がp人における局所換気設備の消費電力量"
   ]
  },
  {
   "cell_type": "code",
   "execution_count": 17,
   "metadata": {
    "collapsed": true
   },
   "outputs": [],
   "source": [
    "# 1時間あたりの局所換気設備の消費電力量（Wh/h）\n",
    "data_p1_weekday      = [0.13,0.13,0.13,0.13,0.13,0.13,3.38,0.54,0.54,0.13,0.33,0.13,3.38,0.33,0.13,0.13,0.33,0.33,6.42,6.42,0.33,0.33,6.28,6.7]\n",
    "data_p1_holiday_out  = [0.13,0.13,0.13,0.13,0.13,0.13,0.33,0.33,7.05,0.13,0.13,0.13,0.13,0.13,0.13,0.13,0.13,0.13,0.13,0.13,0.54,0.33,3.52,6.28]\n",
    "data_p1_holiday_home = [0.13,0.13,0.13,0.13,0.13,0.13,0.13,0.54,3.79,0.33,0.54,0.33,3.38,0.33,0.13,0.13,0.54,6.42,6.42,0.13,0.33,6.28,6.49,3.31]\n",
    "data_p2_weekday      = [0.25,0.25,0.25,0.25,0.25,0.25,6.75,1.08,1.08,0.25,0.67,0.25,6.75,0.67,0.25,0.25,0.67,0.67,12.84,12.84,0.67,0.67,12.56,13.39]\n",
    "data_p2_holiday_out  = [0.25,0.25,0.25,0.25,0.25,0.25,0.67,0.67,14.09,0.25,0.25,0.25,0.25,0.25,0.25,0.25,0.25,0.25,0.25,0.25,1.08,0.67,7.03,12.56]\n",
    "data_p2_holiday_home = [0.25,0.25,0.25,0.25,0.25,0.25,0.25,1.08,7.59,0.67,1.08,0.67,6.75,0.67,0.25,0.25,1.08,12.84,12.84,0.25,0.67,12.56,12.98,6.61]\n",
    "data_p3_weekday      = [0.38,0.38,0.38,0.38,0.38,0.38,10.13,1.63,1.63,0.38,1,0.38,10.13,1,0.38,0.38,1,1,19.26,19.26,1,1,18.84,20.09]\n",
    "data_p3_holiday_out  = [0.38,0.38,0.38,0.38,0.38,0.38,1,1,21.14,0.38,0.38,0.38,0.38,0.38,0.38,0.38,0.38,0.38,0.38,0.38,1.63,1,10.55,18.84]\n",
    "data_p3_holiday_home = [0.38,0.38,0.38,0.38,0.38,0.38,0.38,1.63,11.38,1,1.63,1,10.13,1,0.38,0.38,1.63,19.26,19.26,0.38,1,18.84,19.47,9.92]\n",
    "data_p4_weekday      = [0.5,0.5,0.5,0.5,0.5,0.5,13.51,2.17,2.17,0.5,1.33,0.5,13.51,1.33,0.5,0.5,1.33,1.33,25.68,25.68,1.33,1.33,25.12,26.79]\n",
    "data_p4_holiday_out  = [0.5,0.5,0.5,0.5,0.5,0.5,1.33,1.33,28.18,0.5,0.5,0.5,0.5,0.5,0.5,0.5,0.5,0.5,0.5,0.5,2.17,1.33,14.06,25.12]\n",
    "data_p4_holiday_home = [0.5,0.5,0.5,0.5,0.5,0.5,0.5,2.17,15.18,1.33,2.17,1.33,13.51,1.33,0.5,0.5,2.17,25.68,25.68,0.5,1.33,25.12,25.95,13.23]\n",
    "data_hour = ['0時' , '1時' , '2時' , '3時' , '4時' , '5時' , '6時' , '7時' , '8時' , '9時' , '10時' , '11時' , '12時' , '13時' , '14時' , '15時' , '16時' , '17時' , '18時' , '19時' , '20時' , '21時' , '22時' , '23時']\n",
    "\n",
    "# 生活スケジュール（換気）\n",
    "mySchedule = {'1/1' : 'holiday_home', '1/2' : 'weekday', '1/3' : 'weekday', '1/4' : 'weekday', '1/5' : 'weekday', '1/6' : 'weekday', '1/7' : 'holiday_home', '1/8' : 'holiday_out', '1/9' : 'weekday', '1/10' : 'weekday', '1/11' : 'weekday', '1/12' : 'weekday', '1/13' : 'weekday', '1/14' : 'holiday_home', '1/15' : 'holiday_home', '1/16' : 'weekday', '1/17' : 'weekday', '1/18' : 'weekday', '1/19' : 'weekday', '1/20' : 'weekday', '1/21' : 'holiday_home', '1/22' : 'holiday_out', '1/23' : 'weekday', '1/24' : 'weekday', '1/25' : 'weekday', '1/26' : 'weekday', '1/27' : 'weekday', '1/28' : 'holiday_home', '1/29' : 'holiday_home', '1/30' : 'weekday', '1/31' : 'weekday', '2/1' : 'weekday', '2/2' : 'weekday', '2/3' : 'weekday', '2/4' : 'holiday_home', '2/5' : 'holiday_out', '2/6' : 'weekday', '2/7' : 'weekday', '2/8' : 'weekday', '2/9' : 'weekday', '2/10' : 'weekday', '2/11' : 'holiday_home', '2/12' : 'holiday_home', '2/13' : 'weekday', '2/14' : 'weekday', '2/15' : 'weekday', '2/16' : 'weekday', '2/17' : 'weekday', '2/18' : 'holiday_home', '2/19' : 'holiday_out', '2/20' : 'weekday', '2/21' : 'weekday', '2/22' : 'weekday', '2/23' : 'weekday', '2/24' : 'weekday', '2/25' : 'holiday_home', '2/26' : 'holiday_home', '2/27' : 'weekday', '2/28' : 'weekday', '3/1' : 'weekday', '3/2' : 'weekday', '3/3' : 'weekday', '3/4' : 'holiday_home', '3/5' : 'holiday_out', '3/6' : 'weekday', '3/7' : 'weekday', '3/8' : 'weekday', '3/9' : 'weekday', '3/10' : 'weekday', '3/11' : 'holiday_home', '3/12' : 'holiday_home', '3/13' : 'weekday', '3/14' : 'weekday', '3/15' : 'weekday', '3/16' : 'weekday', '3/17' : 'weekday', '3/18' : 'holiday_home', '3/19' : 'holiday_out', '3/20' : 'weekday', '3/21' : 'holiday_home', '3/22' : 'weekday', '3/23' : 'weekday', '3/24' : 'weekday', '3/25' : 'holiday_home', '3/26' : 'holiday_home', '3/27' : 'weekday', '3/28' : 'weekday', '3/29' : 'weekday', '3/30' : 'weekday', '3/31' : 'weekday', '4/1' : 'holiday_home', '4/2' : 'holiday_out', '4/3' : 'weekday', '4/4' : 'weekday', '4/5' : 'weekday', '4/6' : 'weekday', '4/7' : 'weekday', '4/8' : 'holiday_home', '4/9' : 'holiday_home', '4/10' : 'weekday', '4/11' : 'weekday', '4/12' : 'weekday', '4/13' : 'weekday', '4/14' : 'weekday', '4/15' : 'holiday_home', '4/16' : 'holiday_out', '4/17' : 'weekday', '4/18' : 'weekday', '4/19' : 'weekday', '4/20' : 'weekday', '4/21' : 'weekday', '4/22' : 'holiday_home', '4/23' : 'holiday_home', '4/24' : 'weekday', '4/25' : 'weekday', '4/26' : 'weekday', '4/27' : 'weekday', '4/28' : 'weekday', '4/29' : 'holiday_home', '4/30' : 'holiday_out', '5/1' : 'weekday', '5/2' : 'weekday', '5/3' : 'holiday_out', '5/4' : 'holiday_out', '5/5' : 'holiday_home', '5/6' : 'holiday_home', '5/7' : 'holiday_home', '5/8' : 'weekday', '5/9' : 'weekday', '5/10' : 'weekday', '5/11' : 'weekday', '5/12' : 'weekday', '5/13' : 'holiday_home', '5/14' : 'holiday_out', '5/15' : 'weekday', '5/16' : 'weekday', '5/17' : 'weekday', '5/18' : 'weekday', '5/19' : 'weekday', '5/20' : 'holiday_home', '5/21' : 'holiday_home', '5/22' : 'weekday', '5/23' : 'weekday', '5/24' : 'weekday', '5/25' : 'weekday', '5/26' : 'weekday', '5/27' : 'holiday_home', '5/28' : 'holiday_out', '5/29' : 'weekday', '5/30' : 'weekday', '5/31' : 'weekday', '6/1' : 'weekday', '6/2' : 'weekday', '6/3' : 'holiday_home', '6/4' : 'holiday_home', '6/5' : 'weekday', '6/6' : 'weekday', '6/7' : 'weekday', '6/8' : 'weekday', '6/9' : 'weekday', '6/10' : 'holiday_home', '6/11' : 'holiday_out', '6/12' : 'weekday', '6/13' : 'weekday', '6/14' : 'weekday', '6/15' : 'weekday', '6/16' : 'weekday', '6/17' : 'holiday_home', '6/18' : 'holiday_home', '6/19' : 'weekday', '6/20' : 'weekday', '6/21' : 'weekday', '6/22' : 'weekday', '6/23' : 'weekday', '6/24' : 'holiday_home', '6/25' : 'holiday_out', '6/26' : 'weekday', '6/27' : 'weekday', '6/28' : 'weekday', '6/29' : 'weekday', '6/30' : 'weekday', '7/1' : 'holiday_home', '7/2' : 'holiday_home', '7/3' : 'weekday', '7/4' : 'weekday', '7/5' : 'weekday', '7/6' : 'weekday', '7/7' : 'weekday', '7/8' : 'holiday_home', '7/9' : 'holiday_out', '7/10' : 'weekday', '7/11' : 'weekday', '7/12' : 'weekday', '7/13' : 'weekday', '7/14' : 'weekday', '7/15' : 'holiday_home', '7/16' : 'holiday_home', '7/17' : 'weekday', '7/18' : 'weekday', '7/19' : 'weekday', '7/20' : 'holiday_home', '7/21' : 'weekday', '7/22' : 'holiday_home', '7/23' : 'holiday_out', '7/24' : 'weekday', '7/25' : 'weekday', '7/26' : 'weekday', '7/27' : 'weekday', '7/28' : 'weekday', '7/29' : 'holiday_home', '7/30' : 'holiday_home', '7/31' : 'weekday', '8/1' : 'weekday', '8/2' : 'weekday', '8/3' : 'weekday', '8/4' : 'weekday', '8/5' : 'holiday_home', '8/6' : 'holiday_out', '8/7' : 'weekday', '8/8' : 'weekday', '8/9' : 'weekday', '8/10' : 'weekday', '8/11' : 'weekday', '8/12' : 'holiday_home', '8/13' : 'holiday_home', '8/14' : 'weekday', '8/15' : 'weekday', '8/16' : 'weekday', '8/17' : 'weekday', '8/18' : 'weekday', '8/19' : 'holiday_home', '8/20' : 'holiday_out', '8/21' : 'weekday', '8/22' : 'weekday', '8/23' : 'weekday', '8/24' : 'weekday', '8/25' : 'weekday', '8/26' : 'holiday_home', '8/27' : 'holiday_home', '8/28' : 'weekday', '8/29' : 'weekday', '8/30' : 'weekday', '8/31' : 'weekday', '9/1' : 'weekday', '9/2' : 'holiday_home', '9/3' : 'holiday_out', '9/4' : 'weekday', '9/5' : 'weekday', '9/6' : 'weekday', '9/7' : 'weekday', '9/8' : 'weekday', '9/9' : 'holiday_home', '9/10' : 'holiday_home', '9/11' : 'weekday', '9/12' : 'weekday', '9/13' : 'weekday', '9/14' : 'weekday', '9/15' : 'holiday_out', '9/16' : 'holiday_home', '9/17' : 'holiday_out', '9/18' : 'weekday', '9/19' : 'weekday', '9/20' : 'weekday', '9/21' : 'weekday', '9/22' : 'weekday', '9/23' : 'holiday_home', '9/24' : 'holiday_home', '9/25' : 'weekday', '9/26' : 'weekday', '9/27' : 'weekday', '9/28' : 'weekday', '9/29' : 'weekday', '9/30' : 'holiday_home', '10/1' : 'holiday_out', '10/2' : 'weekday', '10/3' : 'weekday', '10/4' : 'weekday', '10/5' : 'weekday', '10/6' : 'weekday', '10/7' : 'holiday_home', '10/8' : 'holiday_home', '10/9' : 'weekday', '10/10' : 'holiday_home', '10/11' : 'weekday', '10/12' : 'weekday', '10/13' : 'weekday', '10/14' : 'holiday_home', '10/15' : 'holiday_out', '10/16' : 'weekday', '10/17' : 'weekday', '10/18' : 'weekday', '10/19' : 'weekday', '10/20' : 'weekday', '10/21' : 'holiday_home', '10/22' : 'holiday_home', '10/23' : 'weekday', '10/24' : 'weekday', '10/25' : 'weekday', '10/26' : 'weekday', '10/27' : 'weekday', '10/28' : 'holiday_home', '10/29' : 'holiday_out', '10/30' : 'weekday', '10/31' : 'weekday', '11/1' : 'weekday', '11/2' : 'weekday', '11/3' : 'holiday_home', '11/4' : 'holiday_home', '11/5' : 'holiday_home', '11/6' : 'weekday', '11/7' : 'weekday', '11/8' : 'weekday', '11/9' : 'weekday', '11/10' : 'weekday', '11/11' : 'holiday_home', '11/12' : 'holiday_out', '11/13' : 'weekday', '11/14' : 'weekday', '11/15' : 'weekday', '11/16' : 'weekday', '11/17' : 'weekday', '11/18' : 'holiday_home', '11/19' : 'holiday_home', '11/20' : 'weekday', '11/21' : 'weekday', '11/22' : 'weekday', '11/23' : 'holiday_home', '11/24' : 'weekday', '11/25' : 'holiday_home', '11/26' : 'holiday_out', '11/27' : 'weekday', '11/28' : 'weekday', '11/29' : 'weekday', '11/30' : 'weekday', '12/1' : 'weekday', '12/2' : 'holiday_home', '12/3' : 'holiday_home', '12/4' : 'weekday', '12/5' : 'weekday', '12/6' : 'weekday', '12/7' : 'weekday', '12/8' : 'weekday', '12/9' : 'holiday_home', '12/10' : 'holiday_out', '12/11' : 'weekday', '12/12' : 'weekday', '12/13' : 'weekday', '12/14' : 'weekday', '12/15' : 'weekday', '12/16' : 'holiday_home', '12/17' : 'holiday_home', '12/18' : 'weekday', '12/19' : 'weekday', '12/20' : 'weekday', '12/21' : 'weekday', '12/22' : 'weekday', '12/23' : 'holiday_home', '12/24' : 'holiday_out', '12/25' : 'weekday', '12/26' : 'weekday', '12/27' : 'weekday', '12/28' : 'weekday', '12/29' : 'weekday', '12/30' : 'holiday_out', '12/31' : 'holiday_home'}\n",
    "\n"
   ]
  },
  {
   "cell_type": "code",
   "execution_count": 18,
   "metadata": {
    "collapsed": true
   },
   "outputs": [],
   "source": [
    "data = {'p1_weekday' : data_p1_weekday, 'p1_holiday_out' : data_p1_holiday_out, 'p1_holiday_home' : data_p1_holiday_home, \n",
    "        'p2_weekday' : data_p2_weekday, 'p2_holiday_out' : data_p2_holiday_out, 'p2_holiday_home' : data_p2_holiday_home,\n",
    "        'p3_weekday' : data_p3_weekday, 'p3_holiday_out' : data_p3_holiday_out, 'p3_holiday_home' : data_p3_holiday_home,\n",
    "        'p4_weekday' : data_p4_weekday, 'p4_holiday_out' : data_p4_holiday_out, 'p4_holiday_home' : data_p4_holiday_home}"
   ]
  },
  {
   "cell_type": "code",
   "execution_count": 19,
   "metadata": {
    "collapsed": true
   },
   "outputs": [],
   "source": [
    "def get_E_E_VL_p(person, day, hour):\n",
    "    get_Schedule = mySchedule[day]\n",
    "    get_hour = int(hour.split('時')[0])\n",
    "    get_Vec = person + '_' + get_Schedule\n",
    " \n",
    "    return data[get_Vec][get_hour] / 1000\n",
    "\n",
    "def get_E_E_VL_p_plus1(person, day, hour):\n",
    "    get_Schedule = mySchedule[day]\n",
    "    get_hour = int(hour.split('時')[0])\n",
    "    get_Vec = person + '_' + get_Schedule\n",
    " \n",
    "    return data[get_Vec][get_hour] / 1000\n"
   ]
  },
  {
   "cell_type": "code",
   "execution_count": 20,
   "metadata": {},
   "outputs": [
    {
     "data": {
      "text/plain": [
       "0.00628"
      ]
     },
     "execution_count": 20,
     "metadata": {},
     "output_type": "execute_result"
    }
   ],
   "source": [
    "get_E_E_VL_p(person = 'p1', day = '1/2', hour = '22時')"
   ]
  },
  {
   "cell_type": "code",
   "execution_count": 21,
   "metadata": {},
   "outputs": [
    {
     "data": {
      "text/plain": [
       "0.01256"
      ]
     },
     "execution_count": 21,
     "metadata": {},
     "output_type": "execute_result"
    }
   ],
   "source": [
    "get_E_E_VL_p_plus1(person = 'p2', day = '1/2', hour = '22時')"
   ]
  },
  {
   "cell_type": "markdown",
   "metadata": {},
   "source": [
    "# 計算方法（統合）/ Integrated Calculation"
   ]
  },
  {
   "cell_type": "code",
   "execution_count": 110,
   "metadata": {
    "collapsed": true
   },
   "outputs": [],
   "source": [
    "def result(N = 0, A_A = 0, e = 0, P = 0, V_d = 0, get_Type = \"\", get_Saving = \"\", day = \"\", hour=\"\"):\n",
    "    \n",
    "    # 局所換気設備の消費電力量\n",
    "    if A_A / 30 < 1:\n",
    "        p = 1\n",
    "        p_plus1 = 1\n",
    "        n_p = 1\n",
    "    elif A_A / 30 >= 4:\n",
    "        p = 4\n",
    "        p_plus1 = 4\n",
    "        n_p = 4\n",
    "    else:\n",
    "        p = math.floor(A_A / 30)\n",
    "        p_plus1 = math.floor(A_A / 30) + 1\n",
    "        n_p = A_A / 30\n",
    "    \n",
    "    E_E_VL_p = get_E_E_VL_p(person = 'p' + str(p), day = day, hour = hour)\n",
    "    E_E_VL_p_plus1 = get_E_E_VL_p_plus1(person = 'p' + str(p_plus1), day = day, hour = hour)\n",
    "    E_E_VL = get_E_E_VL(E_E_VL_p, E_E_VL_p_plus1, n_p)\n",
    "    print('局所換気の消費電力量' + str(E_E_VL))\n",
    "    \n",
    "    # 全般換気設備の消費電力量\n",
    "    V_R = get_V_R(A_A, N, e)\n",
    "    f_SFP = get_f_SFP(P, V_d, get_Type, get_Saving)\n",
    "    E_E_VG = get_E_E_VG(f_SFP, V_R)\n",
    "    print('全般換気設備の消費電力量' + str(E_E_VG))\n",
    "    \n",
    "    # 機械換気設備の消費電力量\n",
    "    E_E_V = get_E_E_V(E_E_VG, E_E_VL)\n",
    "    print('機械換気設備の消費電力量' + str(E_E_V))\n",
    "    "
   ]
  },
  {
   "cell_type": "markdown",
   "metadata": {},
   "source": [
    "### Example"
   ]
  },
  {
   "cell_type": "markdown",
   "metadata": {},
   "source": [
    "$ N $ = 0.5 (1/h)  \n",
    "$ A_A $ =  120 (m<sup>2</sup>)  \n",
    "$ e $ = 1.0  \n",
    "$ P $ = 50.0 (W)  \n",
    "$ V_d $ = 270.0 (m<sup>3</sup>/h)  \n",
    "$ day $ = 1/1  \n",
    "$ hour $ = 23時"
   ]
  },
  {
   "cell_type": "code",
   "execution_count": 18,
   "metadata": {},
   "outputs": [
    {
     "name": "stdout",
     "output_type": "stream",
     "text": [
      "局所換気の消費電力量0.01323\n",
      "全般換気設備の消費電力量0.030096\n",
      "機械換気設備の消費電力量0.043326\n"
     ]
    }
   ],
   "source": [
    "result(N= 0.5, A_A = 120, e = 1.0, P = 50.0, V_d = 270.0, day = '1/1', hour = '23時')"
   ]
  }
 ],
 "metadata": {
  "kernelspec": {
   "display_name": "Python 3",
   "language": "python",
   "name": "python3"
  },
  "language_info": {
   "codemirror_mode": {
    "name": "ipython",
    "version": 3
   },
   "file_extension": ".py",
   "mimetype": "text/x-python",
   "name": "python",
   "nbconvert_exporter": "python",
   "pygments_lexer": "ipython3",
   "version": "3.6.0"
  }
 },
 "nbformat": 4,
 "nbformat_minor": 2
}
